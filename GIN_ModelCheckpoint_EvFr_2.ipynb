{
  "cells": [
    {
      "cell_type": "markdown",
      "metadata": {
        "id": "view-in-github",
        "colab_type": "text"
      },
      "source": [
        "<a href=\"https://colab.research.google.com/github/C8XY66/GNN/blob/main/GIN_ModelCheckpoint_EvFr_2.ipynb\" target=\"_parent\"><img src=\"https://colab.research.google.com/assets/colab-badge.svg\" alt=\"Open In Colab\"/></a>"
      ]
    },
    {
      "cell_type": "code",
      "execution_count": null,
      "metadata": {
        "id": "9crjFcNyO9lN"
      },
      "outputs": [],
      "source": [
        "!pip install -q git+https://github.com/pyg-team/pytorch_geometric.git"
      ]
    },
    {
      "cell_type": "code",
      "execution_count": null,
      "metadata": {
        "id": "P6ERJo-3U1Uq"
      },
      "outputs": [],
      "source": [
        "!pip install pytorch-lightning"
      ]
    },
    {
      "cell_type": "code",
      "execution_count": null,
      "metadata": {
        "id": "XMXW6FKbU23u"
      },
      "outputs": [],
      "source": [
        "!pip install git+https://github.com/optuna/optuna.git\n",
        "!pip install optuna-dashboard"
      ]
    },
    {
      "cell_type": "code",
      "execution_count": 4,
      "metadata": {
        "id": "lh5Jy70SU4Vm",
        "colab": {
          "base_uri": "https://localhost:8080/"
        },
        "outputId": "da17e3e6-4f79-4e49-9e98-755a89f593d2"
      },
      "outputs": [
        {
          "output_type": "stream",
          "name": "stdout",
          "text": [
            "Drive already mounted at /content/gdrive; to attempt to forcibly remount, call drive.mount(\"/content/gdrive\", force_remount=True).\n"
          ]
        }
      ],
      "source": [
        "import os\n",
        "import re\n",
        "import csv\n",
        "import datetime\n",
        "import pytz\n",
        "import numpy as np\n",
        "from typing import Optional\n",
        "import matplotlib.pyplot as plt\n",
        "from sklearn.model_selection import StratifiedKFold\n",
        "\n",
        "import torch\n",
        "import torch.nn.functional as F\n",
        "from torchmetrics import Accuracy\n",
        "\n",
        "import torch_geometric.transforms as T\n",
        "from torch_geometric.data.lightning import LightningDataset\n",
        "from torch_geometric.datasets import TUDataset\n",
        "from torch_geometric.loader import DataLoader\n",
        "from torch_geometric.nn import GIN, MLP, global_add_pool\n",
        "from torch_geometric.data import InMemoryDataset\n",
        "\n",
        "import pytorch_lightning as pl\n",
        "from pytorch_lightning.callbacks import ModelCheckpoint, EarlyStopping\n",
        "from pytorch_lightning.loggers import TensorBoardLogger\n",
        "# Load the TensorBoard notebook extension\n",
        "%load_ext tensorboard\n",
        "\n",
        "import optuna\n",
        "from optuna.integration import PyTorchLightningPruningCallback\n",
        "from optuna.visualization.matplotlib import plot_contour, plot_edf, plot_intermediate_values, plot_optimization_history, plot_parallel_coordinate, plot_param_importances, plot_slice\n",
        "\n",
        "from google.colab import drive\n",
        "drive.mount('/content/gdrive')\n",
        "MAIN_DIR = \"/content/gdrive/My Drive/ColabNotebooks/\" \n",
        "\n",
        "\n",
        "\n",
        "import logging\n",
        "\n",
        "logging.getLogger(\"pytorch_lightning.utilities.rank_zero\").setLevel(logging.WARNING)\n",
        "logging.getLogger(\"pytorch_lightning.accelerators.cuda\").setLevel(logging.WARNING)\n",
        "logging.getLogger(\"pytorch_lightning.callbacks.early_stopping\").setLevel(logging.WARNING)\n",
        "logging.getLogger(\"pytorch_lightning.callbacks.model_checkpoint\").setLevel(logging.WARNING)\n",
        "\n",
        "import warnings\n",
        "warnings.filterwarnings(\"ignore\", category=UserWarning, module=\"pytorch_lightning.callbacks.model_checkpoint\")\n",
        "warnings.filterwarnings(\"ignore\", category=UserWarning, module=\"pytorch_lightning.utilities\")\n",
        "\n",
        "\n"
      ]
    },
    {
      "cell_type": "code",
      "execution_count": 5,
      "metadata": {
        "colab": {
          "base_uri": "https://localhost:8080/"
        },
        "id": "atTqw8aphQQp",
        "outputId": "2fea2e7f-70a4-4592-f00a-0dc75a411bd0"
      },
      "outputs": [
        {
          "output_type": "stream",
          "name": "stdout",
          "text": [
            "cuda\n"
          ]
        }
      ],
      "source": [
        "# Check for CUDA system support and use GPU if available otherwise run on CPU\n",
        "device = torch.device(\"cuda\" if torch.cuda.is_available() else \"cpu\") # device = Context-manager that changes the selected device\n",
        "print(device)"
      ]
    },
    {
      "cell_type": "code",
      "execution_count": 44,
      "metadata": {
        "id": "lTyVGyyJrGDW"
      },
      "outputs": [],
      "source": [
        "# Hyperparameters\n",
        "\n",
        "DATASET_NAME = 'NCI1'\n",
        "lr = 0.01 \n",
        "EPOCHS = 20 #final = 1000\n",
        "SEED = 42\n",
        "N_SPLITS = 5\n",
        "REP = 2\n",
        "\n",
        "# Reloading interrupted run\n",
        "PARENT_DIR = None\n",
        "\n",
        "#RUN = \"NCI1_reps_2_folds_5_epochs_100_2023-04-26_09-00\"\n",
        "#PARENT_DIR = os.path.join(MAIN_DIR, \"logs\", RUN)\n",
        "\n",
        "STARTING_REP = 0\n",
        "STARTING_FOLD = 0\n"
      ]
    },
    {
      "cell_type": "code",
      "source": [
        "class GNNModel(pl.LightningModule):\n",
        "    def __init__(self, in_channels: int, out_channels: int,\n",
        "                 hidden_channels: int, dropout, num_layers=5):\n",
        "        super().__init__()\n",
        "        self.save_hyperparameters()\n",
        "        self.gnn = GIN(in_channels, hidden_channels, num_layers,\n",
        "                       dropout=dropout, jk='cat')\n",
        "\n",
        "        self.classifier = MLP([hidden_channels, hidden_channels, out_channels],\n",
        "                              norm=\"batch_norm\", dropout=dropout)\n",
        "\n",
        "        self.train_acc = Accuracy(task='multiclass', num_classes=out_channels)\n",
        "        self.val_acc = Accuracy(task='multiclass', num_classes=out_channels)\n",
        "        self.test_acc = Accuracy(task='multiclass', num_classes=out_channels)\n",
        "\n",
        "    def forward(self, x, edge_index, batch):\n",
        "        x = self.gnn(x, edge_index)\n",
        "        x = global_add_pool(x, batch)\n",
        "        x = self.classifier(x)\n",
        "        return x\n",
        "\n",
        "    def training_step(self, data, batch_idx):\n",
        "        y_hat = self(data.x, data.edge_index, data.batch)\n",
        "        loss = F.cross_entropy(y_hat, data.y)\n",
        "        self.train_acc(y_hat.softmax(dim=-1), data.y)\n",
        "        self.log('train_loss', loss, prog_bar=True, on_step=False, on_epoch=True)\n",
        "        self.log('train_acc', self.train_acc, prog_bar=True, on_step=False, on_epoch=True)\n",
        "        return loss\n",
        "\n",
        "    def validation_step(self, data, batch_idx):\n",
        "        y_hat = self(data.x, data.edge_index, data.batch)\n",
        "        loss = F.cross_entropy(y_hat, data.y)\n",
        "        self.val_acc(y_hat.softmax(dim=-1), data.y)\n",
        "        self.log('val_loss', loss, prog_bar=True, on_step=False, on_epoch=True)\n",
        "        self.log('val_acc', self.val_acc, prog_bar=True, on_step=False, on_epoch=True)\n",
        "\n",
        "    def test_step(self, data, batch_idx):\n",
        "        y_hat = self(data.x, data.edge_index, data.batch)\n",
        "        loss = F.cross_entropy(y_hat, data.y)\n",
        "        self.test_acc(y_hat.softmax(dim=-1), data.y)\n",
        "        self.log('test_loss', loss, prog_bar=True, on_step=False, on_epoch=True)\n",
        "        self.log('test_acc', self.test_acc, prog_bar=True, on_step=False,on_epoch=True)\n",
        "\n",
        "    def configure_optimizers(self):\n",
        "        return torch.optim.Adam(self.parameters(), lr=0.01)\n",
        "\n",
        "    def on_save_checkpoint(self, checkpoint):\n",
        "        checkpoint[\"init_args\"] = self.hparams"
      ],
      "metadata": {
        "id": "c_Fs7_0mC0og"
      },
      "execution_count": 7,
      "outputs": []
    },
    {
      "cell_type": "code",
      "execution_count": 8,
      "metadata": {
        "id": "EKE31eyglQ9p"
      },
      "outputs": [],
      "source": [
        "class GraphDataModule(pl.LightningDataModule):\n",
        "    def __init__(self, dataset_name, n_splits=10, fold=0, seed=None, num_workers=0):\n",
        "        super().__init__()\n",
        "        self.dataset_name = dataset_name\n",
        "        self.n_splits = n_splits\n",
        "        self.fold = fold\n",
        "        self.seed = seed\n",
        "        self.num_workers = num_workers\n",
        "\n",
        "    def prepare_data(self):\n",
        "        if self.seed is not None:\n",
        "            torch.manual_seed(self.seed)\n",
        "            np.random.seed(self.seed)    \n",
        "        \n",
        "        self.dataset = TUDataset(root='data/TUDataset', name=self.dataset_name)\n",
        "        #self.dataset = self.dataset[:1000] #for quick experiments\n",
        "        self.skf = StratifiedKFold(n_splits=self.n_splits)\n",
        "\n",
        "    def setup(self, stage: Optional[str] = None, fold: int = 0, batch_size: int = 32):\n",
        "        self.fold = fold\n",
        "        self.batch_size = batch_size\n",
        "        y = [data.y.item() for data in self.dataset]\n",
        "\n",
        "        train_indices, test_indices = list(self.skf.split(torch.zeros(len(y)), y))[self.fold]\n",
        "        train_dataset = self.dataset[train_indices]\n",
        "        \n",
        "        num_val = int(len(train_dataset) * 0.1)\n",
        "        num_train = len(train_dataset) - num_val\n",
        "        \n",
        "        self.train_dataset, self.val_dataset = torch.utils.data.random_split(train_dataset, [num_train, num_val])\n",
        "        self.test_dataset = self.dataset[test_indices]\n",
        "      \n",
        "    def train_dataloader(self):\n",
        "        return DataLoader(self.train_dataset, batch_size=self.batch_size, shuffle=True, num_workers=self.num_workers)\n",
        "\n",
        "    def val_dataloader(self):\n",
        "        return DataLoader(self.val_dataset, batch_size=self.batch_size, shuffle=False, num_workers=self.num_workers)\n",
        "\n",
        "    def test_dataloader(self):\n",
        "        return DataLoader(self.test_dataset, batch_size=self.batch_size, shuffle=False, num_workers=self.num_workers)\n",
        "\n",
        "    @property\n",
        "    def num_node_features(self):\n",
        "        return self.dataset.num_node_features\n",
        "\n",
        "    @property\n",
        "    def num_classes(self):\n",
        "        return self.dataset.num_classes\n"
      ]
    },
    {
      "cell_type": "code",
      "source": [
        "def create_log_dir(repetition_index, fold_index):\n",
        "    global PARENT_DIR\n",
        "    \n",
        "    # Current timestamp\n",
        "    now = datetime.datetime.now(pytz.timezone('Europe/Zurich')).strftime(\"%Y-%m-%d_%H-%M\")\n",
        "\n",
        "    # Parent directory\n",
        "    parent_dir_info = f\"{DATASET_NAME}_reps_{REP}_folds_{N_SPLITS}_epochs_{EPOCHS}\"\n",
        "\n",
        "    if PARENT_DIR is None:\n",
        "        PARENT_DIR = f\"{MAIN_DIR}logs/{parent_dir_info}_{now}\"\n",
        "        if not os.path.exists(PARENT_DIR):\n",
        "            os.makedirs(PARENT_DIR)\n",
        "\n",
        "\n",
        "     # Subdirectory for the specific repetition and fold\n",
        "    if repetition_index is not None and fold_index is not None:\n",
        "        sub_dir = f\"{PARENT_DIR}/rep_{repetition_index}_fold_{fold_index}\"\n",
        "        if not os.path.exists(sub_dir):\n",
        "            os.makedirs(sub_dir)\n",
        "    else:\n",
        "        sub_dir = PARENT_DIR\n",
        "    \n",
        "    return sub_dir"
      ],
      "metadata": {
        "id": "po9ze2H0yJmj"
      },
      "execution_count": 43,
      "outputs": []
    },
    {
      "cell_type": "code",
      "source": [
        "def create_trainer(log_dir, epochs, pruning_callback=None, testing=False, trial=None):\n",
        "    \n",
        "    callbacks = []\n",
        "    \n",
        "    if not testing:\n",
        "\n",
        "        # Training Callbacks\n",
        "        early_stopping = EarlyStopping(monitor=\"val_acc\", mode=\"max\", patience=10, verbose=True)\n",
        "        callbacks.append(early_stopping)\n",
        "        \n",
        "        model_checkpoint = ModelCheckpoint(dirpath=os.path.join(log_dir, \"checkpoints\"), \n",
        "                                           filename=f\"model_trial_{trial.number}\",\n",
        "                                           save_top_k=1, \n",
        "                                           monitor=\"val_acc\", \n",
        "                                           mode=\"max\", \n",
        "                                           auto_insert_metric_name=True,\n",
        "                                           verbose=True)\n",
        "        callbacks.append(model_checkpoint)\n",
        "\n",
        "        if pruning_callback is not None:\n",
        "            callbacks.append(pruning_callback)\n",
        "\n",
        "    # Create trainer\n",
        "    trainer = pl.Trainer(\n",
        "        callbacks=callbacks,\n",
        "        max_epochs=epochs,\n",
        "        log_every_n_steps=5,\n",
        "        logger=TensorBoardLogger(save_dir=log_dir),\n",
        "        enable_progress_bar=False,\n",
        "        enable_model_summary=False,\n",
        "    )\n",
        "\n",
        "    return trainer"
      ],
      "metadata": {
        "id": "8h1J2xdqMzV5"
      },
      "execution_count": 10,
      "outputs": []
    },
    {
      "cell_type": "code",
      "execution_count": 41,
      "metadata": {
        "id": "NmWBXCATF5VS"
      },
      "outputs": [],
      "source": [
        "def objective(trial, datamodule, epochs, repetition_index, fold_index): \n",
        "\n",
        "    # Optimise hyperparameters\n",
        "    hidden_channels = trial.suggest_categorical('hidden_channels', [16, 32])\n",
        "    batch_size = trial.suggest_categorical('batch_size', [32, 128])\n",
        "    dropout = trial.suggest_categorical('dropout', [0.0, 0.5])\n",
        "\n",
        "    # Model and DataModule\n",
        "    datamodule.setup(fold=0, batch_size=batch_size)\n",
        "    model = GNNModel(in_channels=datamodule.num_node_features, \n",
        "                     out_channels=datamodule.num_classes, \n",
        "                     hidden_channels=hidden_channels, \n",
        "                     dropout=dropout)\n",
        "\n",
        "    # Training\n",
        "    pruning_callback = PyTorchLightningPruningCallback(trial, monitor=\"val_acc\") #from optuna-pl-integration\n",
        "    \n",
        "    log_dir = create_log_dir(repetition_index, fold_index)\n",
        "    trainer = create_trainer(log_dir, epochs=epochs, \n",
        "                             pruning_callback=pruning_callback,\n",
        "                             trial=trial)\n",
        "    \n",
        "    hyperparameters = dict(hidden_channels=hidden_channels, batch_size=batch_size, epochs=epochs, dropout=dropout)\n",
        "    trainer.logger.log_hyperparams(hyperparameters)    \n",
        "    \n",
        "    trainer.fit(model, datamodule=datamodule)\n",
        "\n",
        "    return trainer.callback_metrics['val_acc'].item()\n",
        "    "
      ]
    },
    {
      "cell_type": "code",
      "source": [
        "def save_test_results(log_dir, repetition_index, fold_index, test_acc, avg_performance=None, overall_avg_performance=None):\n",
        "    \n",
        "    # Create a CSV file to log the test accuracies\n",
        "    file_path = os.path.join(log_dir, 'test_accuracies.csv')\n",
        "\n",
        "    if not os.path.exists(file_path):\n",
        "        with open(file_path, mode='w', newline='') as file:\n",
        "            writer = csv.writer(file)\n",
        "            writer.writerow(['repetition', 'fold', 'test_accuracy_fold', 'Avg_Performance_Rep', 'Overall_Avg_Performance'])\n",
        "\n",
        "    with open(file_path, mode='a', newline='') as file:\n",
        "        writer = csv.writer(file)\n",
        "\n",
        "        if repetition_index is not None and fold_index is not None:\n",
        "            row = [repetition_index, fold_index, test_acc]\n",
        "        else:\n",
        "            row = ['', '', '']\n",
        "\n",
        "        if avg_performance is not None:\n",
        "            row.append(avg_performance)\n",
        "        else:\n",
        "            row.append('')\n",
        "\n",
        "        if overall_avg_performance is not None:\n",
        "            row.append(overall_avg_performance)\n",
        "        else:\n",
        "            row.append('')\n",
        "\n",
        "        writer.writerow(row)\n"
      ],
      "metadata": {
        "id": "ehN2Oq4obqtE"
      },
      "execution_count": 12,
      "outputs": []
    },
    {
      "cell_type": "code",
      "source": [
        "if __name__ == '__main__':\n",
        "\n",
        "    overall_performances = [] \n",
        "\n",
        "    for r in range(STARTING_REP, REP):\n",
        "        seed = r + 1  # Set a new seed for each repetition\n",
        "        datamodule = GraphDataModule(dataset_name=DATASET_NAME, seed=seed)\n",
        "        datamodule.prepare_data()\n",
        "        fold_performances = []\n",
        "        \n",
        "        for fold in range(STARTING_FOLD if r == STARTING_REP else 0, N_SPLITS):\n",
        "            log_dir = create_log_dir(r, fold)\n",
        "            # Create a new study object for each fold\n",
        "            study = optuna.create_study(direction=\"maximize\", \n",
        "                                        pruner=optuna.pruners.MedianPruner(), \n",
        "                                        sampler=optuna.samplers.TPESampler(seed=SEED), \n",
        "                                        study_name=f\"rep_{r}_fold_{fold}\",\n",
        "                                        #storage=f\"sqlite:///{log_dir}/rep_{r}_fold_{fold}_optuna.db\",\n",
        "                                        #load_if_exists=True\n",
        "                                        )\n",
        "             \n",
        "            datamodule.setup(\"fit\", fold)\n",
        "            study.optimize(lambda trial: objective(trial, datamodule, EPOCHS, r, fold), n_trials=8)\n",
        "            print(f\"Best trial for fold {fold}: {study.best_trial.value}\")\n",
        "\n",
        "            # Load the model with the best hyperparameters\n",
        "            checkpoint_name = f\"model_trial_{study.best_trial.number}.ckpt\"\n",
        "            checkpoint_path = os.path.join(log_dir, \"checkpoints\", checkpoint_name)\n",
        "            checkpoint = torch.load(checkpoint_path)  # Load the checkpoint dictionary from the file\n",
        "            init_args = checkpoint[\"init_args\"]  # Access the saved initialization parameters\n",
        "            best_model = GNNModel(**init_args)  # Initialize the model using the saved parameters\n",
        "            best_model.load_state_dict(checkpoint['state_dict'])\n",
        "\n",
        "            # Test the best model\n",
        "            datamodule.setup(\"test\", fold)\n",
        "            trainer = create_trainer(log_dir=log_dir, epochs=EPOCHS, testing=True)\n",
        "            test_result = trainer.test(best_model, datamodule=datamodule)\n",
        "            test_acc = test_result[0][\"test_acc\"]\n",
        "            print(f\"Test accuracy for fold {fold}: {test_acc}\")\n",
        "\n",
        "            fold_performances.append(test_acc)\n",
        "\n",
        "        avg_performance = np.mean(fold_performances)\n",
        "        print(f\"Average performance for repetition {r}: {avg_performance}\")\n",
        "        overall_performances.append(avg_performance)\n",
        "\n",
        "        # Save test accuracies, average performance, and overall average performance after all folds are done\n",
        "        for fold, test_acc in enumerate(fold_performances):\n",
        "            if fold == N_SPLITS - 1:\n",
        "                save_test_results(PARENT_DIR, r, fold, test_acc, avg_performance)\n",
        "            else:\n",
        "                save_test_results(PARENT_DIR, r, fold, test_acc)\n",
        "\n",
        "    overall_avg_performance = np.mean(overall_performances)\n",
        "    print(f\"Overall average performance: {overall_avg_performance}\")\n",
        "    save_test_results(PARENT_DIR, None, None, None, None, overall_avg_performance)\n"
      ],
      "metadata": {
        "colab": {
          "base_uri": "https://localhost:8080/",
          "height": 1000
        },
        "id": "xDplgH-ltRwk",
        "outputId": "e35ce3a4-e261-4ec0-a9db-2ff8f92acc34"
      },
      "execution_count": 45,
      "outputs": [
        {
          "output_type": "stream",
          "name": "stderr",
          "text": [
            "[I 2023-04-26 09:05:54,304] A new study created in memory with name: rep_0_fold_0\n",
            "[I 2023-04-26 09:06:25,979] Trial 0 finished with value: 0.6829268336296082 and parameters: {'hidden_channels': 32, 'batch_size': 32, 'dropout': 0.0}. Best is trial 0 with value: 0.6829268336296082.\n",
            "[I 2023-04-26 09:06:57,249] Trial 1 finished with value: 0.7100270986557007 and parameters: {'hidden_channels': 32, 'batch_size': 128, 'dropout': 0.5}. Best is trial 1 with value: 0.7100270986557007.\n",
            "[I 2023-04-26 09:07:26,528] Trial 2 finished with value: 0.7046070694923401 and parameters: {'hidden_channels': 16, 'batch_size': 128, 'dropout': 0.5}. Best is trial 1 with value: 0.7100270986557007.\n",
            "[I 2023-04-26 09:07:51,704] Trial 3 finished with value: 0.6910569071769714 and parameters: {'hidden_channels': 16, 'batch_size': 32, 'dropout': 0.5}. Best is trial 1 with value: 0.7100270986557007.\n",
            "[I 2023-04-26 09:08:25,146] Trial 4 finished with value: 0.7018970251083374 and parameters: {'hidden_channels': 32, 'batch_size': 128, 'dropout': 0.0}. Best is trial 1 with value: 0.7100270986557007.\n",
            "[I 2023-04-26 09:08:26,987] Trial 5 pruned. Trial was pruned at epoch 0.\n",
            "[I 2023-04-26 09:08:28,876] Trial 6 pruned. Trial was pruned at epoch 0.\n",
            "[I 2023-04-26 09:08:31,159] Trial 7 pruned. Trial was pruned at epoch 0.\n"
          ]
        },
        {
          "output_type": "stream",
          "name": "stdout",
          "text": [
            "Best trial for fold 0: 0.7100270986557007\n"
          ]
        },
        {
          "output_type": "display_data",
          "data": {
            "text/plain": [
              "┏━━━━━━━━━━━━━━━━━━━━━━━━━━━┳━━━━━━━━━━━━━━━━━━━━━━━━━━━┓\n",
              "┃\u001b[1m \u001b[0m\u001b[1m       Test metric       \u001b[0m\u001b[1m \u001b[0m┃\u001b[1m \u001b[0m\u001b[1m      DataLoader 0       \u001b[0m\u001b[1m \u001b[0m┃\n",
              "┡━━━━━━━━━━━━━━━━━━━━━━━━━━━╇━━━━━━━━━━━━━━━━━━━━━━━━━━━┩\n",
              "│\u001b[36m \u001b[0m\u001b[36m        test_acc         \u001b[0m\u001b[36m \u001b[0m│\u001b[35m \u001b[0m\u001b[35m   0.6155717968940735    \u001b[0m\u001b[35m \u001b[0m│\n",
              "│\u001b[36m \u001b[0m\u001b[36m        test_loss        \u001b[0m\u001b[36m \u001b[0m│\u001b[35m \u001b[0m\u001b[35m   0.6637427806854248    \u001b[0m\u001b[35m \u001b[0m│\n",
              "└───────────────────────────┴───────────────────────────┘\n"
            ],
            "text/html": [
              "<pre style=\"white-space:pre;overflow-x:auto;line-height:normal;font-family:Menlo,'DejaVu Sans Mono',consolas,'Courier New',monospace\">┏━━━━━━━━━━━━━━━━━━━━━━━━━━━┳━━━━━━━━━━━━━━━━━━━━━━━━━━━┓\n",
              "┃<span style=\"font-weight: bold\">        Test metric        </span>┃<span style=\"font-weight: bold\">       DataLoader 0        </span>┃\n",
              "┡━━━━━━━━━━━━━━━━━━━━━━━━━━━╇━━━━━━━━━━━━━━━━━━━━━━━━━━━┩\n",
              "│<span style=\"color: #008080; text-decoration-color: #008080\">         test_acc          </span>│<span style=\"color: #800080; text-decoration-color: #800080\">    0.6155717968940735     </span>│\n",
              "│<span style=\"color: #008080; text-decoration-color: #008080\">         test_loss         </span>│<span style=\"color: #800080; text-decoration-color: #800080\">    0.6637427806854248     </span>│\n",
              "└───────────────────────────┴───────────────────────────┘\n",
              "</pre>\n"
            ]
          },
          "metadata": {}
        },
        {
          "output_type": "stream",
          "name": "stderr",
          "text": [
            "[I 2023-04-26 09:08:32,258] A new study created in memory with name: rep_0_fold_1\n"
          ]
        },
        {
          "output_type": "stream",
          "name": "stdout",
          "text": [
            "Test accuracy for fold 0: 0.6155717968940735\n"
          ]
        },
        {
          "output_type": "stream",
          "name": "stderr",
          "text": [
            "[I 2023-04-26 09:09:03,076] Trial 0 finished with value: 0.7046070694923401 and parameters: {'hidden_channels': 32, 'batch_size': 32, 'dropout': 0.0}. Best is trial 0 with value: 0.7046070694923401.\n",
            "[I 2023-04-26 09:09:34,369] Trial 1 finished with value: 0.696476936340332 and parameters: {'hidden_channels': 32, 'batch_size': 128, 'dropout': 0.5}. Best is trial 0 with value: 0.7046070694923401.\n",
            "[I 2023-04-26 09:10:03,810] Trial 2 finished with value: 0.6802167892456055 and parameters: {'hidden_channels': 16, 'batch_size': 128, 'dropout': 0.5}. Best is trial 0 with value: 0.7046070694923401.\n",
            "[I 2023-04-26 09:10:33,303] Trial 3 finished with value: 0.7018970251083374 and parameters: {'hidden_channels': 16, 'batch_size': 32, 'dropout': 0.5}. Best is trial 0 with value: 0.7046070694923401.\n",
            "[I 2023-04-26 09:11:03,398] Trial 4 finished with value: 0.7100270986557007 and parameters: {'hidden_channels': 32, 'batch_size': 128, 'dropout': 0.0}. Best is trial 4 with value: 0.7100270986557007.\n",
            "[I 2023-04-26 09:11:07,629] Trial 5 pruned. Trial was pruned at epoch 1.\n",
            "[I 2023-04-26 09:11:10,365] Trial 6 pruned. Trial was pruned at epoch 0.\n",
            "[I 2023-04-26 09:11:13,670] Trial 7 pruned. Trial was pruned at epoch 1.\n"
          ]
        },
        {
          "output_type": "stream",
          "name": "stdout",
          "text": [
            "Best trial for fold 1: 0.7100270986557007\n"
          ]
        },
        {
          "output_type": "display_data",
          "data": {
            "text/plain": [
              "┏━━━━━━━━━━━━━━━━━━━━━━━━━━━┳━━━━━━━━━━━━━━━━━━━━━━━━━━━┓\n",
              "┃\u001b[1m \u001b[0m\u001b[1m       Test metric       \u001b[0m\u001b[1m \u001b[0m┃\u001b[1m \u001b[0m\u001b[1m      DataLoader 0       \u001b[0m\u001b[1m \u001b[0m┃\n",
              "┡━━━━━━━━━━━━━━━━━━━━━━━━━━━╇━━━━━━━━━━━━━━━━━━━━━━━━━━━┩\n",
              "│\u001b[36m \u001b[0m\u001b[36m        test_acc         \u001b[0m\u001b[36m \u001b[0m│\u001b[35m \u001b[0m\u001b[35m   0.6496350169181824    \u001b[0m\u001b[35m \u001b[0m│\n",
              "│\u001b[36m \u001b[0m\u001b[36m        test_loss        \u001b[0m\u001b[36m \u001b[0m│\u001b[35m \u001b[0m\u001b[35m   0.6289727091789246    \u001b[0m\u001b[35m \u001b[0m│\n",
              "└───────────────────────────┴───────────────────────────┘\n"
            ],
            "text/html": [
              "<pre style=\"white-space:pre;overflow-x:auto;line-height:normal;font-family:Menlo,'DejaVu Sans Mono',consolas,'Courier New',monospace\">┏━━━━━━━━━━━━━━━━━━━━━━━━━━━┳━━━━━━━━━━━━━━━━━━━━━━━━━━━┓\n",
              "┃<span style=\"font-weight: bold\">        Test metric        </span>┃<span style=\"font-weight: bold\">       DataLoader 0        </span>┃\n",
              "┡━━━━━━━━━━━━━━━━━━━━━━━━━━━╇━━━━━━━━━━━━━━━━━━━━━━━━━━━┩\n",
              "│<span style=\"color: #008080; text-decoration-color: #008080\">         test_acc          </span>│<span style=\"color: #800080; text-decoration-color: #800080\">    0.6496350169181824     </span>│\n",
              "│<span style=\"color: #008080; text-decoration-color: #008080\">         test_loss         </span>│<span style=\"color: #800080; text-decoration-color: #800080\">    0.6289727091789246     </span>│\n",
              "└───────────────────────────┴───────────────────────────┘\n",
              "</pre>\n"
            ]
          },
          "metadata": {}
        },
        {
          "output_type": "stream",
          "name": "stderr",
          "text": [
            "[I 2023-04-26 09:11:14,399] A new study created in memory with name: rep_0_fold_2\n"
          ]
        },
        {
          "output_type": "stream",
          "name": "stdout",
          "text": [
            "Test accuracy for fold 1: 0.6496350169181824\n"
          ]
        },
        {
          "output_type": "stream",
          "name": "stderr",
          "text": [
            "[I 2023-04-26 09:11:45,430] Trial 0 finished with value: 0.7289972901344299 and parameters: {'hidden_channels': 32, 'batch_size': 32, 'dropout': 0.0}. Best is trial 0 with value: 0.7289972901344299.\n",
            "[I 2023-04-26 09:12:17,179] Trial 1 finished with value: 0.7100270986557007 and parameters: {'hidden_channels': 32, 'batch_size': 128, 'dropout': 0.5}. Best is trial 0 with value: 0.7289972901344299.\n",
            "[I 2023-04-26 09:12:47,301] Trial 2 finished with value: 0.7100270986557007 and parameters: {'hidden_channels': 16, 'batch_size': 128, 'dropout': 0.5}. Best is trial 0 with value: 0.7289972901344299.\n",
            "[I 2023-04-26 09:13:19,042] Trial 3 finished with value: 0.6991869807243347 and parameters: {'hidden_channels': 16, 'batch_size': 32, 'dropout': 0.5}. Best is trial 0 with value: 0.7289972901344299.\n",
            "[I 2023-04-26 09:13:49,550] Trial 4 finished with value: 0.6693766713142395 and parameters: {'hidden_channels': 32, 'batch_size': 128, 'dropout': 0.0}. Best is trial 0 with value: 0.7289972901344299.\n",
            "[I 2023-04-26 09:13:51,902] Trial 5 pruned. Trial was pruned at epoch 0.\n",
            "[I 2023-04-26 09:13:58,829] Trial 6 pruned. Trial was pruned at epoch 3.\n",
            "[I 2023-04-26 09:14:31,395] Trial 7 pruned. Trial was pruned at epoch 19.\n"
          ]
        },
        {
          "output_type": "stream",
          "name": "stdout",
          "text": [
            "Best trial for fold 2: 0.7289972901344299\n"
          ]
        },
        {
          "output_type": "display_data",
          "data": {
            "text/plain": [
              "┏━━━━━━━━━━━━━━━━━━━━━━━━━━━┳━━━━━━━━━━━━━━━━━━━━━━━━━━━┓\n",
              "┃\u001b[1m \u001b[0m\u001b[1m       Test metric       \u001b[0m\u001b[1m \u001b[0m┃\u001b[1m \u001b[0m\u001b[1m      DataLoader 0       \u001b[0m\u001b[1m \u001b[0m┃\n",
              "┡━━━━━━━━━━━━━━━━━━━━━━━━━━━╇━━━━━━━━━━━━━━━━━━━━━━━━━━━┩\n",
              "│\u001b[36m \u001b[0m\u001b[36m        test_acc         \u001b[0m\u001b[36m \u001b[0m│\u001b[35m \u001b[0m\u001b[35m   0.6131386756896973    \u001b[0m\u001b[35m \u001b[0m│\n",
              "│\u001b[36m \u001b[0m\u001b[36m        test_loss        \u001b[0m\u001b[36m \u001b[0m│\u001b[35m \u001b[0m\u001b[35m    0.717366099357605    \u001b[0m\u001b[35m \u001b[0m│\n",
              "└───────────────────────────┴───────────────────────────┘\n"
            ],
            "text/html": [
              "<pre style=\"white-space:pre;overflow-x:auto;line-height:normal;font-family:Menlo,'DejaVu Sans Mono',consolas,'Courier New',monospace\">┏━━━━━━━━━━━━━━━━━━━━━━━━━━━┳━━━━━━━━━━━━━━━━━━━━━━━━━━━┓\n",
              "┃<span style=\"font-weight: bold\">        Test metric        </span>┃<span style=\"font-weight: bold\">       DataLoader 0        </span>┃\n",
              "┡━━━━━━━━━━━━━━━━━━━━━━━━━━━╇━━━━━━━━━━━━━━━━━━━━━━━━━━━┩\n",
              "│<span style=\"color: #008080; text-decoration-color: #008080\">         test_acc          </span>│<span style=\"color: #800080; text-decoration-color: #800080\">    0.6131386756896973     </span>│\n",
              "│<span style=\"color: #008080; text-decoration-color: #008080\">         test_loss         </span>│<span style=\"color: #800080; text-decoration-color: #800080\">     0.717366099357605     </span>│\n",
              "└───────────────────────────┴───────────────────────────┘\n",
              "</pre>\n"
            ]
          },
          "metadata": {}
        },
        {
          "output_type": "stream",
          "name": "stderr",
          "text": [
            "[I 2023-04-26 09:14:32,107] A new study created in memory with name: rep_0_fold_3\n"
          ]
        },
        {
          "output_type": "stream",
          "name": "stdout",
          "text": [
            "Test accuracy for fold 2: 0.6131386756896973\n"
          ]
        },
        {
          "output_type": "stream",
          "name": "stderr",
          "text": [
            "[I 2023-04-26 09:15:03,137] Trial 0 finished with value: 0.6910569071769714 and parameters: {'hidden_channels': 32, 'batch_size': 32, 'dropout': 0.0}. Best is trial 0 with value: 0.6910569071769714.\n",
            "[I 2023-04-26 09:15:34,829] Trial 1 finished with value: 0.696476936340332 and parameters: {'hidden_channels': 32, 'batch_size': 128, 'dropout': 0.5}. Best is trial 1 with value: 0.696476936340332.\n",
            "[I 2023-04-26 09:16:01,013] Trial 2 finished with value: 0.7018970251083374 and parameters: {'hidden_channels': 16, 'batch_size': 128, 'dropout': 0.5}. Best is trial 2 with value: 0.7018970251083374.\n",
            "[I 2023-04-26 09:16:30,924] Trial 3 finished with value: 0.6558265686035156 and parameters: {'hidden_channels': 16, 'batch_size': 32, 'dropout': 0.5}. Best is trial 2 with value: 0.7018970251083374.\n",
            "[I 2023-04-26 09:17:01,525] Trial 4 finished with value: 0.707317054271698 and parameters: {'hidden_channels': 32, 'batch_size': 128, 'dropout': 0.0}. Best is trial 4 with value: 0.707317054271698.\n",
            "[I 2023-04-26 09:17:03,363] Trial 5 pruned. Trial was pruned at epoch 0.\n",
            "[I 2023-04-26 09:17:05,226] Trial 6 pruned. Trial was pruned at epoch 0.\n",
            "[I 2023-04-26 09:17:14,091] Trial 7 pruned. Trial was pruned at epoch 4.\n"
          ]
        },
        {
          "output_type": "stream",
          "name": "stdout",
          "text": [
            "Best trial for fold 3: 0.707317054271698\n"
          ]
        },
        {
          "output_type": "display_data",
          "data": {
            "text/plain": [
              "┏━━━━━━━━━━━━━━━━━━━━━━━━━━━┳━━━━━━━━━━━━━━━━━━━━━━━━━━━┓\n",
              "┃\u001b[1m \u001b[0m\u001b[1m       Test metric       \u001b[0m\u001b[1m \u001b[0m┃\u001b[1m \u001b[0m\u001b[1m      DataLoader 0       \u001b[0m\u001b[1m \u001b[0m┃\n",
              "┡━━━━━━━━━━━━━━━━━━━━━━━━━━━╇━━━━━━━━━━━━━━━━━━━━━━━━━━━┩\n",
              "│\u001b[36m \u001b[0m\u001b[36m        test_acc         \u001b[0m\u001b[36m \u001b[0m│\u001b[35m \u001b[0m\u001b[35m   0.6569343209266663    \u001b[0m\u001b[35m \u001b[0m│\n",
              "│\u001b[36m \u001b[0m\u001b[36m        test_loss        \u001b[0m\u001b[36m \u001b[0m│\u001b[35m \u001b[0m\u001b[35m   0.6754459738731384    \u001b[0m\u001b[35m \u001b[0m│\n",
              "└───────────────────────────┴───────────────────────────┘\n"
            ],
            "text/html": [
              "<pre style=\"white-space:pre;overflow-x:auto;line-height:normal;font-family:Menlo,'DejaVu Sans Mono',consolas,'Courier New',monospace\">┏━━━━━━━━━━━━━━━━━━━━━━━━━━━┳━━━━━━━━━━━━━━━━━━━━━━━━━━━┓\n",
              "┃<span style=\"font-weight: bold\">        Test metric        </span>┃<span style=\"font-weight: bold\">       DataLoader 0        </span>┃\n",
              "┡━━━━━━━━━━━━━━━━━━━━━━━━━━━╇━━━━━━━━━━━━━━━━━━━━━━━━━━━┩\n",
              "│<span style=\"color: #008080; text-decoration-color: #008080\">         test_acc          </span>│<span style=\"color: #800080; text-decoration-color: #800080\">    0.6569343209266663     </span>│\n",
              "│<span style=\"color: #008080; text-decoration-color: #008080\">         test_loss         </span>│<span style=\"color: #800080; text-decoration-color: #800080\">    0.6754459738731384     </span>│\n",
              "└───────────────────────────┴───────────────────────────┘\n",
              "</pre>\n"
            ]
          },
          "metadata": {}
        },
        {
          "output_type": "stream",
          "name": "stderr",
          "text": [
            "[I 2023-04-26 09:17:14,882] A new study created in memory with name: rep_0_fold_4\n"
          ]
        },
        {
          "output_type": "stream",
          "name": "stdout",
          "text": [
            "Test accuracy for fold 3: 0.6569343209266663\n"
          ]
        },
        {
          "output_type": "stream",
          "name": "stderr",
          "text": [
            "[I 2023-04-26 09:17:46,648] Trial 0 finished with value: 0.6910569071769714 and parameters: {'hidden_channels': 32, 'batch_size': 32, 'dropout': 0.0}. Best is trial 0 with value: 0.6910569071769714.\n",
            "[I 2023-04-26 09:18:20,204] Trial 1 finished with value: 0.707317054271698 and parameters: {'hidden_channels': 32, 'batch_size': 128, 'dropout': 0.5}. Best is trial 1 with value: 0.707317054271698.\n",
            "[I 2023-04-26 09:18:50,346] Trial 2 finished with value: 0.6883468627929688 and parameters: {'hidden_channels': 16, 'batch_size': 128, 'dropout': 0.5}. Best is trial 1 with value: 0.707317054271698.\n",
            "[I 2023-04-26 09:19:20,094] Trial 3 finished with value: 0.6531165242195129 and parameters: {'hidden_channels': 16, 'batch_size': 32, 'dropout': 0.5}. Best is trial 1 with value: 0.707317054271698.\n",
            "[I 2023-04-26 09:19:51,116] Trial 4 finished with value: 0.7398374080657959 and parameters: {'hidden_channels': 32, 'batch_size': 128, 'dropout': 0.0}. Best is trial 4 with value: 0.7398374080657959.\n",
            "[I 2023-04-26 09:19:52,963] Trial 5 pruned. Trial was pruned at epoch 0.\n",
            "[I 2023-04-26 09:19:54,859] Trial 6 pruned. Trial was pruned at epoch 0.\n",
            "[I 2023-04-26 09:19:56,819] Trial 7 pruned. Trial was pruned at epoch 0.\n"
          ]
        },
        {
          "output_type": "stream",
          "name": "stdout",
          "text": [
            "Best trial for fold 4: 0.7398374080657959\n"
          ]
        },
        {
          "output_type": "display_data",
          "data": {
            "text/plain": [
              "┏━━━━━━━━━━━━━━━━━━━━━━━━━━━┳━━━━━━━━━━━━━━━━━━━━━━━━━━━┓\n",
              "┃\u001b[1m \u001b[0m\u001b[1m       Test metric       \u001b[0m\u001b[1m \u001b[0m┃\u001b[1m \u001b[0m\u001b[1m      DataLoader 0       \u001b[0m\u001b[1m \u001b[0m┃\n",
              "┡━━━━━━━━━━━━━━━━━━━━━━━━━━━╇━━━━━━━━━━━━━━━━━━━━━━━━━━━┩\n",
              "│\u001b[36m \u001b[0m\u001b[36m        test_acc         \u001b[0m\u001b[36m \u001b[0m│\u001b[35m \u001b[0m\u001b[35m   0.6107056140899658    \u001b[0m\u001b[35m \u001b[0m│\n",
              "│\u001b[36m \u001b[0m\u001b[36m        test_loss        \u001b[0m\u001b[36m \u001b[0m│\u001b[35m \u001b[0m\u001b[35m   0.6856054663658142    \u001b[0m\u001b[35m \u001b[0m│\n",
              "└───────────────────────────┴───────────────────────────┘\n"
            ],
            "text/html": [
              "<pre style=\"white-space:pre;overflow-x:auto;line-height:normal;font-family:Menlo,'DejaVu Sans Mono',consolas,'Courier New',monospace\">┏━━━━━━━━━━━━━━━━━━━━━━━━━━━┳━━━━━━━━━━━━━━━━━━━━━━━━━━━┓\n",
              "┃<span style=\"font-weight: bold\">        Test metric        </span>┃<span style=\"font-weight: bold\">       DataLoader 0        </span>┃\n",
              "┡━━━━━━━━━━━━━━━━━━━━━━━━━━━╇━━━━━━━━━━━━━━━━━━━━━━━━━━━┩\n",
              "│<span style=\"color: #008080; text-decoration-color: #008080\">         test_acc          </span>│<span style=\"color: #800080; text-decoration-color: #800080\">    0.6107056140899658     </span>│\n",
              "│<span style=\"color: #008080; text-decoration-color: #008080\">         test_loss         </span>│<span style=\"color: #800080; text-decoration-color: #800080\">    0.6856054663658142     </span>│\n",
              "└───────────────────────────┴───────────────────────────┘\n",
              "</pre>\n"
            ]
          },
          "metadata": {}
        },
        {
          "output_type": "stream",
          "name": "stderr",
          "text": [
            "[I 2023-04-26 09:19:57,675] A new study created in memory with name: rep_1_fold_0\n"
          ]
        },
        {
          "output_type": "stream",
          "name": "stdout",
          "text": [
            "Test accuracy for fold 4: 0.6107056140899658\n",
            "Average performance for repetition 0: 0.6291970849037171\n"
          ]
        },
        {
          "output_type": "stream",
          "name": "stderr",
          "text": [
            "[I 2023-04-26 09:20:19,276] Trial 0 finished with value: 0.6829268336296082 and parameters: {'hidden_channels': 32, 'batch_size': 32, 'dropout': 0.0}. Best is trial 0 with value: 0.6829268336296082.\n",
            "[I 2023-04-26 09:20:49,355] Trial 1 finished with value: 0.6991869807243347 and parameters: {'hidden_channels': 32, 'batch_size': 128, 'dropout': 0.5}. Best is trial 1 with value: 0.6991869807243347.\n",
            "[I 2023-04-26 09:21:19,347] Trial 2 finished with value: 0.7208672165870667 and parameters: {'hidden_channels': 16, 'batch_size': 128, 'dropout': 0.5}. Best is trial 2 with value: 0.7208672165870667.\n",
            "[I 2023-04-26 09:21:47,991] Trial 3 finished with value: 0.6829268336296082 and parameters: {'hidden_channels': 16, 'batch_size': 32, 'dropout': 0.5}. Best is trial 2 with value: 0.7208672165870667.\n",
            "[I 2023-04-26 09:22:18,748] Trial 4 finished with value: 0.6775068044662476 and parameters: {'hidden_channels': 32, 'batch_size': 128, 'dropout': 0.0}. Best is trial 2 with value: 0.7208672165870667.\n",
            "[I 2023-04-26 09:22:21,860] Trial 5 pruned. Trial was pruned at epoch 1.\n",
            "[I 2023-04-26 09:22:44,060] Trial 6 pruned. Trial was pruned at epoch 14.\n",
            "[I 2023-04-26 09:22:47,228] Trial 7 pruned. Trial was pruned at epoch 0.\n"
          ]
        },
        {
          "output_type": "stream",
          "name": "stdout",
          "text": [
            "Best trial for fold 0: 0.7208672165870667\n"
          ]
        },
        {
          "output_type": "display_data",
          "data": {
            "text/plain": [
              "┏━━━━━━━━━━━━━━━━━━━━━━━━━━━┳━━━━━━━━━━━━━━━━━━━━━━━━━━━┓\n",
              "┃\u001b[1m \u001b[0m\u001b[1m       Test metric       \u001b[0m\u001b[1m \u001b[0m┃\u001b[1m \u001b[0m\u001b[1m      DataLoader 0       \u001b[0m\u001b[1m \u001b[0m┃\n",
              "┡━━━━━━━━━━━━━━━━━━━━━━━━━━━╇━━━━━━━━━━━━━━━━━━━━━━━━━━━┩\n",
              "│\u001b[36m \u001b[0m\u001b[36m        test_acc         \u001b[0m\u001b[36m \u001b[0m│\u001b[35m \u001b[0m\u001b[35m   0.6301703453063965    \u001b[0m\u001b[35m \u001b[0m│\n",
              "│\u001b[36m \u001b[0m\u001b[36m        test_loss        \u001b[0m\u001b[36m \u001b[0m│\u001b[35m \u001b[0m\u001b[35m   0.6345309615135193    \u001b[0m\u001b[35m \u001b[0m│\n",
              "└───────────────────────────┴───────────────────────────┘\n"
            ],
            "text/html": [
              "<pre style=\"white-space:pre;overflow-x:auto;line-height:normal;font-family:Menlo,'DejaVu Sans Mono',consolas,'Courier New',monospace\">┏━━━━━━━━━━━━━━━━━━━━━━━━━━━┳━━━━━━━━━━━━━━━━━━━━━━━━━━━┓\n",
              "┃<span style=\"font-weight: bold\">        Test metric        </span>┃<span style=\"font-weight: bold\">       DataLoader 0        </span>┃\n",
              "┡━━━━━━━━━━━━━━━━━━━━━━━━━━━╇━━━━━━━━━━━━━━━━━━━━━━━━━━━┩\n",
              "│<span style=\"color: #008080; text-decoration-color: #008080\">         test_acc          </span>│<span style=\"color: #800080; text-decoration-color: #800080\">    0.6301703453063965     </span>│\n",
              "│<span style=\"color: #008080; text-decoration-color: #008080\">         test_loss         </span>│<span style=\"color: #800080; text-decoration-color: #800080\">    0.6345309615135193     </span>│\n",
              "└───────────────────────────┴───────────────────────────┘\n",
              "</pre>\n"
            ]
          },
          "metadata": {}
        },
        {
          "output_type": "stream",
          "name": "stderr",
          "text": [
            "[I 2023-04-26 09:22:48,597] A new study created in memory with name: rep_1_fold_1\n"
          ]
        },
        {
          "output_type": "stream",
          "name": "stdout",
          "text": [
            "Test accuracy for fold 0: 0.6301703453063965\n"
          ]
        },
        {
          "output_type": "stream",
          "name": "stderr",
          "text": [
            "[I 2023-04-26 09:23:14,044] Trial 0 finished with value: 0.6747967600822449 and parameters: {'hidden_channels': 32, 'batch_size': 32, 'dropout': 0.0}. Best is trial 0 with value: 0.6747967600822449.\n",
            "[I 2023-04-26 09:23:44,008] Trial 1 finished with value: 0.6883468627929688 and parameters: {'hidden_channels': 32, 'batch_size': 128, 'dropout': 0.5}. Best is trial 1 with value: 0.6883468627929688.\n",
            "[I 2023-04-26 09:24:14,931] Trial 2 finished with value: 0.7208672165870667 and parameters: {'hidden_channels': 16, 'batch_size': 128, 'dropout': 0.5}. Best is trial 2 with value: 0.7208672165870667.\n",
            "[I 2023-04-26 09:24:44,848] Trial 3 finished with value: 0.6991869807243347 and parameters: {'hidden_channels': 16, 'batch_size': 32, 'dropout': 0.5}. Best is trial 2 with value: 0.7208672165870667.\n",
            "[I 2023-04-26 09:25:14,071] Trial 4 finished with value: 0.7018970251083374 and parameters: {'hidden_channels': 32, 'batch_size': 128, 'dropout': 0.0}. Best is trial 2 with value: 0.7208672165870667.\n",
            "[I 2023-04-26 09:25:40,887] Trial 5 finished with value: 0.6395664215087891 and parameters: {'hidden_channels': 16, 'batch_size': 128, 'dropout': 0.0}. Best is trial 2 with value: 0.7208672165870667.\n",
            "[I 2023-04-26 09:25:42,757] Trial 6 pruned. Trial was pruned at epoch 0.\n",
            "[I 2023-04-26 09:25:45,994] Trial 7 pruned. Trial was pruned at epoch 1.\n"
          ]
        },
        {
          "output_type": "stream",
          "name": "stdout",
          "text": [
            "Best trial for fold 1: 0.7208672165870667\n"
          ]
        },
        {
          "output_type": "display_data",
          "data": {
            "text/plain": [
              "┏━━━━━━━━━━━━━━━━━━━━━━━━━━━┳━━━━━━━━━━━━━━━━━━━━━━━━━━━┓\n",
              "┃\u001b[1m \u001b[0m\u001b[1m       Test metric       \u001b[0m\u001b[1m \u001b[0m┃\u001b[1m \u001b[0m\u001b[1m      DataLoader 0       \u001b[0m\u001b[1m \u001b[0m┃\n",
              "┡━━━━━━━━━━━━━━━━━━━━━━━━━━━╇━━━━━━━━━━━━━━━━━━━━━━━━━━━┩\n",
              "│\u001b[36m \u001b[0m\u001b[36m        test_acc         \u001b[0m\u001b[36m \u001b[0m│\u001b[35m \u001b[0m\u001b[35m   0.6569343209266663    \u001b[0m\u001b[35m \u001b[0m│\n",
              "│\u001b[36m \u001b[0m\u001b[36m        test_loss        \u001b[0m\u001b[36m \u001b[0m│\u001b[35m \u001b[0m\u001b[35m   0.6363748908042908    \u001b[0m\u001b[35m \u001b[0m│\n",
              "└───────────────────────────┴───────────────────────────┘\n"
            ],
            "text/html": [
              "<pre style=\"white-space:pre;overflow-x:auto;line-height:normal;font-family:Menlo,'DejaVu Sans Mono',consolas,'Courier New',monospace\">┏━━━━━━━━━━━━━━━━━━━━━━━━━━━┳━━━━━━━━━━━━━━━━━━━━━━━━━━━┓\n",
              "┃<span style=\"font-weight: bold\">        Test metric        </span>┃<span style=\"font-weight: bold\">       DataLoader 0        </span>┃\n",
              "┡━━━━━━━━━━━━━━━━━━━━━━━━━━━╇━━━━━━━━━━━━━━━━━━━━━━━━━━━┩\n",
              "│<span style=\"color: #008080; text-decoration-color: #008080\">         test_acc          </span>│<span style=\"color: #800080; text-decoration-color: #800080\">    0.6569343209266663     </span>│\n",
              "│<span style=\"color: #008080; text-decoration-color: #008080\">         test_loss         </span>│<span style=\"color: #800080; text-decoration-color: #800080\">    0.6363748908042908     </span>│\n",
              "└───────────────────────────┴───────────────────────────┘\n",
              "</pre>\n"
            ]
          },
          "metadata": {}
        },
        {
          "output_type": "stream",
          "name": "stderr",
          "text": [
            "[I 2023-04-26 09:25:46,658] A new study created in memory with name: rep_1_fold_2\n"
          ]
        },
        {
          "output_type": "stream",
          "name": "stdout",
          "text": [
            "Test accuracy for fold 1: 0.6569343209266663\n"
          ]
        },
        {
          "output_type": "stream",
          "name": "stderr",
          "text": [
            "[I 2023-04-26 09:26:17,086] Trial 0 finished with value: 0.718157172203064 and parameters: {'hidden_channels': 32, 'batch_size': 32, 'dropout': 0.0}. Best is trial 0 with value: 0.718157172203064.\n",
            "[I 2023-04-26 09:26:48,548] Trial 1 finished with value: 0.7208672165870667 and parameters: {'hidden_channels': 32, 'batch_size': 128, 'dropout': 0.5}. Best is trial 1 with value: 0.7208672165870667.\n",
            "[I 2023-04-26 09:27:17,901] Trial 2 finished with value: 0.6802167892456055 and parameters: {'hidden_channels': 16, 'batch_size': 128, 'dropout': 0.5}. Best is trial 1 with value: 0.7208672165870667.\n",
            "[I 2023-04-26 09:27:50,418] Trial 3 finished with value: 0.6883468627929688 and parameters: {'hidden_channels': 16, 'batch_size': 32, 'dropout': 0.5}. Best is trial 1 with value: 0.7208672165870667.\n",
            "[I 2023-04-26 09:28:21,047] Trial 4 finished with value: 0.7154471278190613 and parameters: {'hidden_channels': 32, 'batch_size': 128, 'dropout': 0.0}. Best is trial 1 with value: 0.7208672165870667.\n",
            "[I 2023-04-26 09:28:24,337] Trial 5 pruned. Trial was pruned at epoch 1.\n",
            "[I 2023-04-26 09:28:29,165] Trial 6 pruned. Trial was pruned at epoch 1.\n",
            "[I 2023-04-26 09:28:32,489] Trial 7 pruned. Trial was pruned at epoch 1.\n"
          ]
        },
        {
          "output_type": "stream",
          "name": "stdout",
          "text": [
            "Best trial for fold 2: 0.7208672165870667\n"
          ]
        },
        {
          "output_type": "display_data",
          "data": {
            "text/plain": [
              "┏━━━━━━━━━━━━━━━━━━━━━━━━━━━┳━━━━━━━━━━━━━━━━━━━━━━━━━━━┓\n",
              "┃\u001b[1m \u001b[0m\u001b[1m       Test metric       \u001b[0m\u001b[1m \u001b[0m┃\u001b[1m \u001b[0m\u001b[1m      DataLoader 0       \u001b[0m\u001b[1m \u001b[0m┃\n",
              "┡━━━━━━━━━━━━━━━━━━━━━━━━━━━╇━━━━━━━━━━━━━━━━━━━━━━━━━━━┩\n",
              "│\u001b[36m \u001b[0m\u001b[36m        test_acc         \u001b[0m\u001b[36m \u001b[0m│\u001b[35m \u001b[0m\u001b[35m   0.6155717968940735    \u001b[0m\u001b[35m \u001b[0m│\n",
              "│\u001b[36m \u001b[0m\u001b[36m        test_loss        \u001b[0m\u001b[36m \u001b[0m│\u001b[35m \u001b[0m\u001b[35m   0.6776567697525024    \u001b[0m\u001b[35m \u001b[0m│\n",
              "└───────────────────────────┴───────────────────────────┘\n"
            ],
            "text/html": [
              "<pre style=\"white-space:pre;overflow-x:auto;line-height:normal;font-family:Menlo,'DejaVu Sans Mono',consolas,'Courier New',monospace\">┏━━━━━━━━━━━━━━━━━━━━━━━━━━━┳━━━━━━━━━━━━━━━━━━━━━━━━━━━┓\n",
              "┃<span style=\"font-weight: bold\">        Test metric        </span>┃<span style=\"font-weight: bold\">       DataLoader 0        </span>┃\n",
              "┡━━━━━━━━━━━━━━━━━━━━━━━━━━━╇━━━━━━━━━━━━━━━━━━━━━━━━━━━┩\n",
              "│<span style=\"color: #008080; text-decoration-color: #008080\">         test_acc          </span>│<span style=\"color: #800080; text-decoration-color: #800080\">    0.6155717968940735     </span>│\n",
              "│<span style=\"color: #008080; text-decoration-color: #008080\">         test_loss         </span>│<span style=\"color: #800080; text-decoration-color: #800080\">    0.6776567697525024     </span>│\n",
              "└───────────────────────────┴───────────────────────────┘\n",
              "</pre>\n"
            ]
          },
          "metadata": {}
        },
        {
          "output_type": "stream",
          "name": "stderr",
          "text": [
            "[I 2023-04-26 09:28:33,197] A new study created in memory with name: rep_1_fold_3\n"
          ]
        },
        {
          "output_type": "stream",
          "name": "stdout",
          "text": [
            "Test accuracy for fold 2: 0.6155717968940735\n"
          ]
        },
        {
          "output_type": "stream",
          "name": "stderr",
          "text": [
            "[I 2023-04-26 09:29:03,515] Trial 0 finished with value: 0.6991869807243347 and parameters: {'hidden_channels': 32, 'batch_size': 32, 'dropout': 0.0}. Best is trial 0 with value: 0.6991869807243347.\n",
            "[I 2023-04-26 09:29:34,417] Trial 1 finished with value: 0.7235772609710693 and parameters: {'hidden_channels': 32, 'batch_size': 128, 'dropout': 0.5}. Best is trial 1 with value: 0.7235772609710693.\n",
            "[I 2023-04-26 09:30:04,111] Trial 2 finished with value: 0.7018970251083374 and parameters: {'hidden_channels': 16, 'batch_size': 128, 'dropout': 0.5}. Best is trial 1 with value: 0.7235772609710693.\n",
            "[I 2023-04-26 09:30:33,842] Trial 3 finished with value: 0.7235772609710693 and parameters: {'hidden_channels': 16, 'batch_size': 32, 'dropout': 0.5}. Best is trial 1 with value: 0.7235772609710693.\n",
            "[I 2023-04-26 09:31:03,900] Trial 4 finished with value: 0.7344173192977905 and parameters: {'hidden_channels': 32, 'batch_size': 128, 'dropout': 0.0}. Best is trial 4 with value: 0.7344173192977905.\n",
            "[I 2023-04-26 09:31:06,634] Trial 5 pruned. Trial was pruned at epoch 0.\n",
            "[I 2023-04-26 09:31:08,504] Trial 6 pruned. Trial was pruned at epoch 0.\n",
            "[I 2023-04-26 09:31:17,461] Trial 7 pruned. Trial was pruned at epoch 4.\n"
          ]
        },
        {
          "output_type": "stream",
          "name": "stdout",
          "text": [
            "Best trial for fold 3: 0.7344173192977905\n"
          ]
        },
        {
          "output_type": "display_data",
          "data": {
            "text/plain": [
              "┏━━━━━━━━━━━━━━━━━━━━━━━━━━━┳━━━━━━━━━━━━━━━━━━━━━━━━━━━┓\n",
              "┃\u001b[1m \u001b[0m\u001b[1m       Test metric       \u001b[0m\u001b[1m \u001b[0m┃\u001b[1m \u001b[0m\u001b[1m      DataLoader 0       \u001b[0m\u001b[1m \u001b[0m┃\n",
              "┡━━━━━━━━━━━━━━━━━━━━━━━━━━━╇━━━━━━━━━━━━━━━━━━━━━━━━━━━┩\n",
              "│\u001b[36m \u001b[0m\u001b[36m        test_acc         \u001b[0m\u001b[36m \u001b[0m│\u001b[35m \u001b[0m\u001b[35m   0.6277372241020203    \u001b[0m\u001b[35m \u001b[0m│\n",
              "│\u001b[36m \u001b[0m\u001b[36m        test_loss        \u001b[0m\u001b[36m \u001b[0m│\u001b[35m \u001b[0m\u001b[35m   0.6869697570800781    \u001b[0m\u001b[35m \u001b[0m│\n",
              "└───────────────────────────┴───────────────────────────┘\n"
            ],
            "text/html": [
              "<pre style=\"white-space:pre;overflow-x:auto;line-height:normal;font-family:Menlo,'DejaVu Sans Mono',consolas,'Courier New',monospace\">┏━━━━━━━━━━━━━━━━━━━━━━━━━━━┳━━━━━━━━━━━━━━━━━━━━━━━━━━━┓\n",
              "┃<span style=\"font-weight: bold\">        Test metric        </span>┃<span style=\"font-weight: bold\">       DataLoader 0        </span>┃\n",
              "┡━━━━━━━━━━━━━━━━━━━━━━━━━━━╇━━━━━━━━━━━━━━━━━━━━━━━━━━━┩\n",
              "│<span style=\"color: #008080; text-decoration-color: #008080\">         test_acc          </span>│<span style=\"color: #800080; text-decoration-color: #800080\">    0.6277372241020203     </span>│\n",
              "│<span style=\"color: #008080; text-decoration-color: #008080\">         test_loss         </span>│<span style=\"color: #800080; text-decoration-color: #800080\">    0.6869697570800781     </span>│\n",
              "└───────────────────────────┴───────────────────────────┘\n",
              "</pre>\n"
            ]
          },
          "metadata": {}
        },
        {
          "output_type": "stream",
          "name": "stderr",
          "text": [
            "[I 2023-04-26 09:31:18,148] A new study created in memory with name: rep_1_fold_4\n"
          ]
        },
        {
          "output_type": "stream",
          "name": "stdout",
          "text": [
            "Test accuracy for fold 3: 0.6277372241020203\n"
          ]
        },
        {
          "output_type": "stream",
          "name": "stderr",
          "text": [
            "[I 2023-04-26 09:31:48,528] Trial 0 finished with value: 0.7046070694923401 and parameters: {'hidden_channels': 32, 'batch_size': 32, 'dropout': 0.0}. Best is trial 0 with value: 0.7046070694923401.\n",
            "[I 2023-04-26 09:32:10,041] Trial 1 finished with value: 0.7018970251083374 and parameters: {'hidden_channels': 32, 'batch_size': 128, 'dropout': 0.5}. Best is trial 0 with value: 0.7046070694923401.\n",
            "[I 2023-04-26 09:32:36,397] Trial 2 finished with value: 0.7154471278190613 and parameters: {'hidden_channels': 16, 'batch_size': 128, 'dropout': 0.5}. Best is trial 2 with value: 0.7154471278190613.\n",
            "[I 2023-04-26 09:33:07,686] Trial 3 finished with value: 0.696476936340332 and parameters: {'hidden_channels': 16, 'batch_size': 32, 'dropout': 0.5}. Best is trial 2 with value: 0.7154471278190613.\n",
            "[I 2023-04-26 09:33:36,719] Trial 4 finished with value: 0.6612465977668762 and parameters: {'hidden_channels': 32, 'batch_size': 128, 'dropout': 0.0}. Best is trial 2 with value: 0.7154471278190613.\n",
            "[I 2023-04-26 09:33:49,329] Trial 5 pruned. Trial was pruned at epoch 7.\n",
            "[I 2023-04-26 09:33:54,650] Trial 6 pruned. Trial was pruned at epoch 2.\n",
            "[I 2023-04-26 09:33:56,553] Trial 7 pruned. Trial was pruned at epoch 0.\n"
          ]
        },
        {
          "output_type": "stream",
          "name": "stdout",
          "text": [
            "Best trial for fold 4: 0.7154471278190613\n"
          ]
        },
        {
          "output_type": "display_data",
          "data": {
            "text/plain": [
              "┏━━━━━━━━━━━━━━━━━━━━━━━━━━━┳━━━━━━━━━━━━━━━━━━━━━━━━━━━┓\n",
              "┃\u001b[1m \u001b[0m\u001b[1m       Test metric       \u001b[0m\u001b[1m \u001b[0m┃\u001b[1m \u001b[0m\u001b[1m      DataLoader 0       \u001b[0m\u001b[1m \u001b[0m┃\n",
              "┡━━━━━━━━━━━━━━━━━━━━━━━━━━━╇━━━━━━━━━━━━━━━━━━━━━━━━━━━┩\n",
              "│\u001b[36m \u001b[0m\u001b[36m        test_acc         \u001b[0m\u001b[36m \u001b[0m│\u001b[35m \u001b[0m\u001b[35m   0.6447688341140747    \u001b[0m\u001b[35m \u001b[0m│\n",
              "│\u001b[36m \u001b[0m\u001b[36m        test_loss        \u001b[0m\u001b[36m \u001b[0m│\u001b[35m \u001b[0m\u001b[35m   0.6352428197860718    \u001b[0m\u001b[35m \u001b[0m│\n",
              "└───────────────────────────┴───────────────────────────┘\n"
            ],
            "text/html": [
              "<pre style=\"white-space:pre;overflow-x:auto;line-height:normal;font-family:Menlo,'DejaVu Sans Mono',consolas,'Courier New',monospace\">┏━━━━━━━━━━━━━━━━━━━━━━━━━━━┳━━━━━━━━━━━━━━━━━━━━━━━━━━━┓\n",
              "┃<span style=\"font-weight: bold\">        Test metric        </span>┃<span style=\"font-weight: bold\">       DataLoader 0        </span>┃\n",
              "┡━━━━━━━━━━━━━━━━━━━━━━━━━━━╇━━━━━━━━━━━━━━━━━━━━━━━━━━━┩\n",
              "│<span style=\"color: #008080; text-decoration-color: #008080\">         test_acc          </span>│<span style=\"color: #800080; text-decoration-color: #800080\">    0.6447688341140747     </span>│\n",
              "│<span style=\"color: #008080; text-decoration-color: #008080\">         test_loss         </span>│<span style=\"color: #800080; text-decoration-color: #800080\">    0.6352428197860718     </span>│\n",
              "└───────────────────────────┴───────────────────────────┘\n",
              "</pre>\n"
            ]
          },
          "metadata": {}
        },
        {
          "output_type": "stream",
          "name": "stdout",
          "text": [
            "Test accuracy for fold 4: 0.6447688341140747\n",
            "Average performance for repetition 1: 0.6350365042686462\n",
            "Overall average performance: 0.6321167945861816\n"
          ]
        }
      ]
    },
    {
      "cell_type": "code",
      "source": [
        "#%tensorboard --logdir '/content/gdrive/My Drive/ColabNotebooks/logs'\n",
        "%tensorboard --logdir '{MAIN_DIR}'"
      ],
      "metadata": {
        "id": "t86u3fkaDp42"
      },
      "execution_count": null,
      "outputs": []
    }
  ],
  "metadata": {
    "accelerator": "GPU",
    "colab": {
      "provenance": [],
      "authorship_tag": "ABX9TyMw95xY5/OSi6cnNxlF+aEe",
      "include_colab_link": true
    },
    "gpuClass": "standard",
    "kernelspec": {
      "display_name": "Python 3",
      "name": "python3"
    },
    "language_info": {
      "name": "python"
    }
  },
  "nbformat": 4,
  "nbformat_minor": 0
}