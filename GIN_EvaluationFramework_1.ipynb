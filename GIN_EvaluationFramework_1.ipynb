{
  "cells": [
    {
      "cell_type": "markdown",
      "metadata": {
        "id": "view-in-github",
        "colab_type": "text"
      },
      "source": [
        "<a href=\"https://colab.research.google.com/github/C8XY66/GIN/blob/main/GIN_CV_Implementation.ipynb\" target=\"_parent\"><img src=\"https://colab.research.google.com/assets/colab-badge.svg\" alt=\"Open In Colab\"/></a>"
      ]
    },
    {
      "cell_type": "code",
      "execution_count": null,
      "metadata": {
        "id": "9crjFcNyO9lN"
      },
      "outputs": [],
      "source": [
        "!pip install -q git+https://github.com/pyg-team/pytorch_geometric.git"
      ]
    },
    {
      "cell_type": "code",
      "execution_count": null,
      "metadata": {
        "id": "P6ERJo-3U1Uq"
      },
      "outputs": [],
      "source": [
        "!pip install pytorch-lightning"
      ]
    },
    {
      "cell_type": "code",
      "execution_count": null,
      "metadata": {
        "id": "XMXW6FKbU23u"
      },
      "outputs": [],
      "source": [
        "!pip install git+https://github.com/optuna/optuna.git\n",
        "!pip install optuna-dashboard"
      ]
    },
    {
      "cell_type": "code",
      "execution_count": null,
      "metadata": {
        "colab": {
          "base_uri": "https://localhost:8080/"
        },
        "id": "lh5Jy70SU4Vm",
        "outputId": "c52d0660-a7e9-4cc0-83e0-3cea4d267be7"
      },
      "outputs": [
        {
          "name": "stdout",
          "output_type": "stream",
          "text": [
            "Drive already mounted at /content/gdrive; to attempt to forcibly remount, call drive.mount(\"/content/gdrive\", force_remount=True).\n"
          ]
        }
      ],
      "source": [
        "import os.path as osp\n",
        "from google.colab import drive\n",
        "drive.mount('/content/gdrive')\n",
        "import numpy as np\n",
        "from typing import Optional\n",
        "import matplotlib.pyplot as plt\n",
        "from sklearn.model_selection import StratifiedKFold\n",
        "\n",
        "\n",
        "import logging\n",
        "#logging.getLogger(\"pytorch_lightning\").setLevel(logging.WARNING)\n",
        "#logging.getLogger(\"lightning\").setLevel(logging.ERROR)\n",
        "#logging.getLogger(\"lightning\").setLevel(logging.CRITICAL)\n",
        "#logging.getLogger('lightning').setLevel(0)\n",
        "#logging.getLogger(\"lightning.pytorch\").setLevel(logging.ERROR)\n",
        "logging.getLogger(\"pytorch_lightning.utilities.rank_zero\").setLevel(logging.WARNING)\n",
        "logging.getLogger(\"pytorch_lightning.accelerators.cuda\").setLevel(logging.WARNING)\n",
        "#logging.getLogger(\"pytorch_lightning.callbacks.early_stopping\").setLevel(logging.WARNING)\n",
        "\n",
        "\n",
        "\n",
        "import torch\n",
        "import torch.nn.functional as F\n",
        "from torchmetrics import Accuracy\n",
        "\n",
        "import torch_geometric.transforms as T\n",
        "from torch_geometric.data.lightning import LightningDataset\n",
        "from torch_geometric.datasets import TUDataset\n",
        "from torch_geometric.loader import DataLoader\n",
        "from torch_geometric.nn import GIN, MLP, global_add_pool\n",
        "from torch_geometric.data import InMemoryDataset\n",
        "\n",
        "import pytorch_lightning as pl\n",
        "from pytorch_lightning.loggers import TensorBoardLogger\n",
        "from pytorch_lightning.callbacks import ModelCheckpoint, EarlyStopping\n",
        "\n",
        "import optuna\n",
        "from optuna.integration import PyTorchLightningPruningCallback\n",
        "from optuna.visualization.matplotlib import plot_contour, plot_edf, plot_intermediate_values, plot_optimization_history, plot_parallel_coordinate, plot_param_importances, plot_slice\n"
      ]
    },
    {
      "cell_type": "code",
      "execution_count": null,
      "metadata": {
        "colab": {
          "base_uri": "https://localhost:8080/"
        },
        "id": "atTqw8aphQQp",
        "outputId": "9342ce90-3375-489e-92bd-af14f8b817f7"
      },
      "outputs": [
        {
          "name": "stdout",
          "output_type": "stream",
          "text": [
            "cuda\n"
          ]
        }
      ],
      "source": [
        "DIR = \"/content/gdrive/My Drive/ColabNotebooks/\" \n",
        "\n",
        "# Check for CUDA system support and use GPU if available otherwise run on CPU\n",
        "device = torch.device(\"cuda\" if torch.cuda.is_available() else \"cpu\") # device = Context-manager that changes the selected device\n",
        "print(device)"
      ]
    },
    {
      "cell_type": "code",
      "execution_count": null,
      "metadata": {
        "id": "lTyVGyyJrGDW"
      },
      "outputs": [],
      "source": [
        "# Hyperparameters\n",
        "\n",
        "DATASET_NAME = 'NCI1'\n",
        "num_layers = 5\n",
        "lr = 0.01 \n",
        "EPOCHS = 200 #final = 1000\n",
        "SEED = 42\n",
        "N_SPLITS = 5\n",
        "REP = 3"
      ]
    },
    {
      "cell_type": "code",
      "execution_count": null,
      "metadata": {
        "id": "d1C-1RTqU77H"
      },
      "outputs": [],
      "source": [
        "class Model(pl.LightningModule):\n",
        "    def __init__(self, in_channels: int, out_channels: int,\n",
        "                 hidden_channels: int, dropout, num_layers=num_layers):\n",
        "        super().__init__()\n",
        "        self.gnn = GIN(in_channels, hidden_channels, num_layers,\n",
        "                       dropout=dropout, jk='cat')\n",
        "\n",
        "        self.classifier = MLP([hidden_channels, hidden_channels, out_channels],\n",
        "                              norm=\"batch_norm\", dropout=dropout)\n",
        "\n",
        "        self.train_acc = Accuracy(task='multiclass', num_classes=out_channels)\n",
        "        self.val_acc = Accuracy(task='multiclass', num_classes=out_channels)\n",
        "        self.test_acc = Accuracy(task='multiclass', num_classes=out_channels)\n",
        "\n",
        "    def forward(self, x, edge_index, batch):\n",
        "        x = self.gnn(x, edge_index)\n",
        "        x = global_add_pool(x, batch)\n",
        "        x = self.classifier(x)\n",
        "        return x\n",
        "\n",
        "    def training_step(self, data, batch_idx):\n",
        "        y_hat = self(data.x, data.edge_index, data.batch)\n",
        "        loss = F.cross_entropy(y_hat, data.y)\n",
        "        self.train_acc(y_hat.softmax(dim=-1), data.y)\n",
        "        self.log('train_loss', loss, prog_bar=True, on_step=False, on_epoch=True)\n",
        "        self.log('train_acc', self.train_acc, prog_bar=True, on_step=False, on_epoch=True)\n",
        "        return loss\n",
        "\n",
        "    def validation_step(self, data, batch_idx):\n",
        "        y_hat = self(data.x, data.edge_index, data.batch)\n",
        "        loss = F.cross_entropy(y_hat, data.y)\n",
        "        self.val_acc(y_hat.softmax(dim=-1), data.y)\n",
        "        self.log('val_loss', loss, prog_bar=True, on_step=False, on_epoch=True)\n",
        "        self.log('val_acc', self.val_acc, prog_bar=True, on_step=False, on_epoch=True)\n",
        "\n",
        "    def test_step(self, data, batch_idx):\n",
        "        y_hat = self(data.x, data.edge_index, data.batch)\n",
        "        loss = F.cross_entropy(y_hat, data.y)\n",
        "        self.test_acc(y_hat.softmax(dim=-1), data.y)\n",
        "        self.log('test_loss', loss, prog_bar=True, on_step=False, on_epoch=True)\n",
        "        self.log('test_acc', self.test_acc, prog_bar=True, on_step=False,on_epoch=True)\n",
        "\n",
        "    def configure_optimizers(self):\n",
        "        return torch.optim.Adam(self.parameters(), lr=0.01)\n"
      ]
    },
    {
      "cell_type": "code",
      "execution_count": null,
      "metadata": {
        "id": "EKE31eyglQ9p"
      },
      "outputs": [],
      "source": [
        "class GraphDataModule(pl.LightningDataModule):\n",
        "    def __init__(self, dataset_name, n_splits=10, fold=0):\n",
        "        super().__init__()\n",
        "        self.dataset_name = dataset_name\n",
        "        self.n_splits = n_splits\n",
        "        self.fold = fold\n",
        "\n",
        "    def prepare_data(self):    \n",
        "        self.dataset = TUDataset(root='data/TUDataset', name=self.dataset_name)\n",
        "        #self.dataset = self.dataset[:500] #for quick experiments\n",
        "        self.skf = StratifiedKFold(n_splits=self.n_splits)\n",
        "\n",
        "    def setup(self, stage: Optional[str] = None, fold: int = 0, batch_size: int = 32):\n",
        "        self.fold = fold\n",
        "        self.batch_size = batch_size\n",
        "        y = [data.y.item() for data in self.dataset]\n",
        "\n",
        "        train_indices, test_indices = list(self.skf.split(torch.zeros(len(y)), y))[self.fold]\n",
        "        train_dataset = self.dataset[train_indices]\n",
        "        \n",
        "        num_val = int(len(train_dataset) * 0.1)\n",
        "        num_train = len(train_dataset) - num_val\n",
        "        \n",
        "        self.train_dataset, self.val_dataset = torch.utils.data.random_split(train_dataset, [num_train, num_val])\n",
        "        self.test_dataset = self.dataset[test_indices]\n",
        "      \n",
        "    def train_dataloader(self):\n",
        "        return DataLoader(self.train_dataset, batch_size=self.batch_size, shuffle=True)\n",
        "\n",
        "    def val_dataloader(self):\n",
        "        return DataLoader(self.val_dataset, batch_size=self.batch_size, shuffle=False)\n",
        "\n",
        "    def test_dataloader(self):\n",
        "        return DataLoader(self.test_dataset, batch_size=self.batch_size, shuffle=False)\n",
        "\n",
        "    @property\n",
        "    def num_node_features(self):\n",
        "        return self.dataset.num_node_features\n",
        "\n",
        "    @property\n",
        "    def num_classes(self):\n",
        "        return self.dataset.num_classes\n"
      ]
    },
    {
      "cell_type": "code",
      "execution_count": null,
      "metadata": {
        "id": "NmWBXCATF5VS"
      },
      "outputs": [],
      "source": [
        "def objective(trial, datamodule, epochs): \n",
        "\n",
        "    # Optimise hyperparameters\n",
        "    hidden_channels = trial.suggest_categorical('hidden_channels', [16, 32])\n",
        "    batch_size = trial.suggest_categorical('batch_size', [32, 128])\n",
        "    dropout = trial.suggest_categorical('dropout', [0.0, 0.5])\n",
        "\n",
        "    # Model and DataModule\n",
        "    datamodule.setup(fold=0, batch_size=batch_size)\n",
        "    model = Model(in_channels=datamodule.num_node_features, out_channels=datamodule.num_classes, hidden_channels=hidden_channels, dropout=dropout)\n",
        "\n",
        "    # Training\n",
        "    pruning_callback = PyTorchLightningPruningCallback(trial, monitor=\"val_acc\") #from optuna-pl-integration\n",
        "    early_stopping = EarlyStopping(monitor=\"val_acc\", mode=\"max\", patience=10, verbose=True) #final patience = 500 for acc and loss\n",
        "    \n",
        "    trainer = pl.Trainer(\n",
        "        default_root_dir=DIR,\n",
        "        callbacks=[pruning_callback, early_stopping], \n",
        "        max_epochs=epochs,\n",
        "        log_every_n_steps=5, \n",
        "        logger=TensorBoardLogger(save_dir=DIR),\n",
        "        enable_progress_bar=False,\n",
        "        enable_model_summary=False,\n",
        "    )\n",
        "\n",
        "    hyperparameters = dict(hidden_channels=hidden_channels, batch_size=batch_size, epochs=epochs, dropout=dropout)\n",
        "    trainer.logger.log_hyperparams(hyperparameters)    \n",
        "    \n",
        "    trainer.fit(model, datamodule=datamodule)\n",
        "\n",
        "    return trainer.callback_metrics['val_acc'].item()\n",
        "    "
      ]
    },
    {
      "cell_type": "code",
      "execution_count": null,
      "metadata": {
        "id": "lhW7-XpMDGLv"
      },
      "outputs": [],
      "source": [
        "def retrain_and_evaluate(model, datamodule, epochs):\n",
        "    early_stopping = EarlyStopping(monitor=\"val_acc\", mode=\"max\", patience=10, verbose=True)\n",
        "    trainer = pl.Trainer(\n",
        "        default_root_dir=DIR,\n",
        "        callbacks=[early_stopping],\n",
        "        max_epochs=epochs,\n",
        "        log_every_n_steps=5,\n",
        "        logger=TensorBoardLogger(save_dir=DIR),\n",
        "        enable_progress_bar=False,\n",
        "        enable_model_summary=False,\n",
        "    )\n",
        "    trainer.fit(model, datamodule=datamodule)\n",
        "    trainer.test(model, datamodule=datamodule)\n",
        "\n",
        "    return trainer.callback_metrics['test_acc'].item()"
      ]
    },
    {
      "cell_type": "code",
      "execution_count": null,
      "metadata": {
        "colab": {
          "background_save": true,
          "base_uri": "https://localhost:8080/",
          "height": 1000
        },
        "id": "jZzCJL2nLkQG",
        "outputId": "7944f91a-6364-4aaf-f867-02b0a960f397"
      },
      "outputs": [
        {
          "name": "stderr",
          "output_type": "stream",
          "text": [
            "[I 2023-04-18 16:56:14,836] A new study created in memory with name: no-name-c5b311ef-2d0e-4624-9dbd-fe7a315431fa\n",
            "[I 2023-04-18 16:56:51,186] Trial 0 finished with value: 0.7588075995445251 and parameters: {'hidden_channels': 32, 'batch_size': 32, 'dropout': 0.0}. Best is trial 0 with value: 0.7588075995445251.\n",
            "[I 2023-04-18 16:57:21,149] Trial 1 finished with value: 0.7506775259971619 and parameters: {'hidden_channels': 32, 'batch_size': 128, 'dropout': 0.5}. Best is trial 0 with value: 0.7588075995445251.\n",
            "[I 2023-04-18 16:57:59,081] Trial 2 finished with value: 0.7317073345184326 and parameters: {'hidden_channels': 16, 'batch_size': 128, 'dropout': 0.5}. Best is trial 0 with value: 0.7588075995445251.\n",
            "[I 2023-04-18 16:58:39,246] Trial 3 finished with value: 0.696476936340332 and parameters: {'hidden_channels': 16, 'batch_size': 32, 'dropout': 0.5}. Best is trial 0 with value: 0.7588075995445251.\n",
            "[I 2023-04-18 16:59:25,466] Trial 4 finished with value: 0.718157172203064 and parameters: {'hidden_channels': 32, 'batch_size': 128, 'dropout': 0.0}. Best is trial 0 with value: 0.7588075995445251.\n",
            "[I 2023-04-18 16:59:27,905] Trial 5 pruned. Trial was pruned at epoch 0.\n",
            "[I 2023-04-18 16:59:30,524] Trial 6 pruned. Trial was pruned at epoch 0.\n",
            "[I 2023-04-18 16:59:33,274] Trial 7 pruned. Trial was pruned at epoch 0.\n"
          ]
        },
        {
          "name": "stdout",
          "output_type": "stream",
          "text": [
            "Best trial for fold 0: 0.7588075995445251\n"
          ]
        },
        {
          "data": {
            "text/html": [
              "<pre style=\"white-space:pre;overflow-x:auto;line-height:normal;font-family:Menlo,'DejaVu Sans Mono',consolas,'Courier New',monospace\">┏━━━━━━━━━━━━━━━━━━━━━━━━━━━┳━━━━━━━━━━━━━━━━━━━━━━━━━━━┓\n",
              "┃<span style=\"font-weight: bold\">        Test metric        </span>┃<span style=\"font-weight: bold\">       DataLoader 0        </span>┃\n",
              "┡━━━━━━━━━━━━━━━━━━━━━━━━━━━╇━━━━━━━━━━━━━━━━━━━━━━━━━━━┩\n",
              "│<span style=\"color: #008080; text-decoration-color: #008080\">         test_acc          </span>│<span style=\"color: #800080; text-decoration-color: #800080\">    0.6326034069061279     </span>│\n",
              "│<span style=\"color: #008080; text-decoration-color: #008080\">         test_loss         </span>│<span style=\"color: #800080; text-decoration-color: #800080\">    0.6700522899627686     </span>│\n",
              "└───────────────────────────┴───────────────────────────┘\n",
              "</pre>\n"
            ],
            "text/plain": [
              "┏━━━━━━━━━━━━━━━━━━━━━━━━━━━┳━━━━━━━━━━━━━━━━━━━━━━━━━━━┓\n",
              "┃\u001b[1m \u001b[0m\u001b[1m       Test metric       \u001b[0m\u001b[1m \u001b[0m┃\u001b[1m \u001b[0m\u001b[1m      DataLoader 0       \u001b[0m\u001b[1m \u001b[0m┃\n",
              "┡━━━━━━━━━━━━━━━━━━━━━━━━━━━╇━━━━━━━━━━━━━━━━━━━━━━━━━━━┩\n",
              "│\u001b[36m \u001b[0m\u001b[36m        test_acc         \u001b[0m\u001b[36m \u001b[0m│\u001b[35m \u001b[0m\u001b[35m   0.6326034069061279    \u001b[0m\u001b[35m \u001b[0m│\n",
              "│\u001b[36m \u001b[0m\u001b[36m        test_loss        \u001b[0m\u001b[36m \u001b[0m│\u001b[35m \u001b[0m\u001b[35m   0.6700522899627686    \u001b[0m\u001b[35m \u001b[0m│\n",
              "└───────────────────────────┴───────────────────────────┘\n"
            ]
          },
          "metadata": {},
          "output_type": "display_data"
        },
        {
          "name": "stderr",
          "output_type": "stream",
          "text": [
            "[I 2023-04-18 17:00:08,246] A new study created in memory with name: no-name-9acd3593-8f95-4d60-beea-8a375fb1a175\n",
            "[I 2023-04-18 17:00:24,361] Trial 0 finished with value: 0.631436288356781 and parameters: {'hidden_channels': 32, 'batch_size': 32, 'dropout': 0.0}. Best is trial 0 with value: 0.631436288356781.\n",
            "[I 2023-04-18 17:00:51,860] Trial 1 finished with value: 0.7317073345184326 and parameters: {'hidden_channels': 32, 'batch_size': 128, 'dropout': 0.5}. Best is trial 1 with value: 0.7317073345184326.\n",
            "[I 2023-04-18 17:01:35,127] Trial 2 finished with value: 0.783197820186615 and parameters: {'hidden_channels': 16, 'batch_size': 128, 'dropout': 0.5}. Best is trial 2 with value: 0.783197820186615.\n",
            "[I 2023-04-18 17:02:02,599] Trial 3 finished with value: 0.696476936340332 and parameters: {'hidden_channels': 16, 'batch_size': 32, 'dropout': 0.5}. Best is trial 2 with value: 0.783197820186615.\n",
            "[I 2023-04-18 17:02:32,325] Trial 4 finished with value: 0.6991869807243347 and parameters: {'hidden_channels': 32, 'batch_size': 128, 'dropout': 0.0}. Best is trial 2 with value: 0.783197820186615.\n",
            "[I 2023-04-18 17:02:34,407] Trial 5 pruned. Trial was pruned at epoch 0.\n",
            "[I 2023-04-18 17:03:05,654] Trial 6 pruned. Trial was pruned at epoch 22.\n",
            "[I 2023-04-18 17:03:10,165] Trial 7 pruned. Trial was pruned at epoch 1.\n"
          ]
        },
        {
          "name": "stdout",
          "output_type": "stream",
          "text": [
            "Best trial for fold 1: 0.783197820186615\n"
          ]
        },
        {
          "data": {
            "text/html": [
              "<pre style=\"white-space:pre;overflow-x:auto;line-height:normal;font-family:Menlo,'DejaVu Sans Mono',consolas,'Courier New',monospace\">┏━━━━━━━━━━━━━━━━━━━━━━━━━━━┳━━━━━━━━━━━━━━━━━━━━━━━━━━━┓\n",
              "┃<span style=\"font-weight: bold\">        Test metric        </span>┃<span style=\"font-weight: bold\">       DataLoader 0        </span>┃\n",
              "┡━━━━━━━━━━━━━━━━━━━━━━━━━━━╇━━━━━━━━━━━━━━━━━━━━━━━━━━━┩\n",
              "│<span style=\"color: #008080; text-decoration-color: #008080\">         test_acc          </span>│<span style=\"color: #800080; text-decoration-color: #800080\">    0.6447688341140747     </span>│\n",
              "│<span style=\"color: #008080; text-decoration-color: #008080\">         test_loss         </span>│<span style=\"color: #800080; text-decoration-color: #800080\">    0.6531845927238464     </span>│\n",
              "└───────────────────────────┴───────────────────────────┘\n",
              "</pre>\n"
            ],
            "text/plain": [
              "┏━━━━━━━━━━━━━━━━━━━━━━━━━━━┳━━━━━━━━━━━━━━━━━━━━━━━━━━━┓\n",
              "┃\u001b[1m \u001b[0m\u001b[1m       Test metric       \u001b[0m\u001b[1m \u001b[0m┃\u001b[1m \u001b[0m\u001b[1m      DataLoader 0       \u001b[0m\u001b[1m \u001b[0m┃\n",
              "┡━━━━━━━━━━━━━━━━━━━━━━━━━━━╇━━━━━━━━━━━━━━━━━━━━━━━━━━━┩\n",
              "│\u001b[36m \u001b[0m\u001b[36m        test_acc         \u001b[0m\u001b[36m \u001b[0m│\u001b[35m \u001b[0m\u001b[35m   0.6447688341140747    \u001b[0m\u001b[35m \u001b[0m│\n",
              "│\u001b[36m \u001b[0m\u001b[36m        test_loss        \u001b[0m\u001b[36m \u001b[0m│\u001b[35m \u001b[0m\u001b[35m   0.6531845927238464    \u001b[0m\u001b[35m \u001b[0m│\n",
              "└───────────────────────────┴───────────────────────────┘\n"
            ]
          },
          "metadata": {},
          "output_type": "display_data"
        },
        {
          "name": "stderr",
          "output_type": "stream",
          "text": [
            "[I 2023-04-18 17:03:54,269] A new study created in memory with name: no-name-e15bfab5-d0b8-44f5-92c0-00ab6ef4b6b3\n",
            "[I 2023-04-18 17:04:21,285] Trial 0 finished with value: 0.7344173192977905 and parameters: {'hidden_channels': 32, 'batch_size': 32, 'dropout': 0.0}. Best is trial 0 with value: 0.7344173192977905.\n",
            "[I 2023-04-18 17:04:44,461] Trial 1 finished with value: 0.6720867156982422 and parameters: {'hidden_channels': 32, 'batch_size': 128, 'dropout': 0.5}. Best is trial 0 with value: 0.7344173192977905.\n",
            "[I 2023-04-18 17:05:10,710] Trial 2 finished with value: 0.6720867156982422 and parameters: {'hidden_channels': 16, 'batch_size': 128, 'dropout': 0.5}. Best is trial 0 with value: 0.7344173192977905.\n",
            "[I 2023-04-18 17:05:35,576] Trial 3 finished with value: 0.7262872457504272 and parameters: {'hidden_channels': 16, 'batch_size': 32, 'dropout': 0.5}. Best is trial 0 with value: 0.7344173192977905.\n",
            "[I 2023-04-18 17:06:09,184] Trial 4 finished with value: 0.7235772609710693 and parameters: {'hidden_channels': 32, 'batch_size': 128, 'dropout': 0.0}. Best is trial 0 with value: 0.7344173192977905.\n",
            "[I 2023-04-18 17:06:28,612] Trial 5 finished with value: 0.7018970251083374 and parameters: {'hidden_channels': 16, 'batch_size': 128, 'dropout': 0.0}. Best is trial 0 with value: 0.7344173192977905.\n",
            "[I 2023-04-18 17:06:36,757] Trial 6 pruned. Trial was pruned at epoch 4.\n",
            "[I 2023-04-18 17:07:11,448] Trial 7 finished with value: 0.7127371430397034 and parameters: {'hidden_channels': 32, 'batch_size': 128, 'dropout': 0.5}. Best is trial 0 with value: 0.7344173192977905.\n"
          ]
        },
        {
          "name": "stdout",
          "output_type": "stream",
          "text": [
            "Best trial for fold 2: 0.7344173192977905\n"
          ]
        },
        {
          "data": {
            "text/html": [
              "<pre style=\"white-space:pre;overflow-x:auto;line-height:normal;font-family:Menlo,'DejaVu Sans Mono',consolas,'Courier New',monospace\">┏━━━━━━━━━━━━━━━━━━━━━━━━━━━┳━━━━━━━━━━━━━━━━━━━━━━━━━━━┓\n",
              "┃<span style=\"font-weight: bold\">        Test metric        </span>┃<span style=\"font-weight: bold\">       DataLoader 0        </span>┃\n",
              "┡━━━━━━━━━━━━━━━━━━━━━━━━━━━╇━━━━━━━━━━━━━━━━━━━━━━━━━━━┩\n",
              "│<span style=\"color: #008080; text-decoration-color: #008080\">         test_acc          </span>│<span style=\"color: #800080; text-decoration-color: #800080\">    0.5985401272773743     </span>│\n",
              "│<span style=\"color: #008080; text-decoration-color: #008080\">         test_loss         </span>│<span style=\"color: #800080; text-decoration-color: #800080\">     0.661793053150177     </span>│\n",
              "└───────────────────────────┴───────────────────────────┘\n",
              "</pre>\n"
            ],
            "text/plain": [
              "┏━━━━━━━━━━━━━━━━━━━━━━━━━━━┳━━━━━━━━━━━━━━━━━━━━━━━━━━━┓\n",
              "┃\u001b[1m \u001b[0m\u001b[1m       Test metric       \u001b[0m\u001b[1m \u001b[0m┃\u001b[1m \u001b[0m\u001b[1m      DataLoader 0       \u001b[0m\u001b[1m \u001b[0m┃\n",
              "┡━━━━━━━━━━━━━━━━━━━━━━━━━━━╇━━━━━━━━━━━━━━━━━━━━━━━━━━━┩\n",
              "│\u001b[36m \u001b[0m\u001b[36m        test_acc         \u001b[0m\u001b[36m \u001b[0m│\u001b[35m \u001b[0m\u001b[35m   0.5985401272773743    \u001b[0m\u001b[35m \u001b[0m│\n",
              "│\u001b[36m \u001b[0m\u001b[36m        test_loss        \u001b[0m\u001b[36m \u001b[0m│\u001b[35m \u001b[0m\u001b[35m    0.661793053150177    \u001b[0m\u001b[35m \u001b[0m│\n",
              "└───────────────────────────┴───────────────────────────┘\n"
            ]
          },
          "metadata": {},
          "output_type": "display_data"
        },
        {
          "name": "stderr",
          "output_type": "stream",
          "text": [
            "[I 2023-04-18 17:07:36,481] A new study created in memory with name: no-name-5ddabce5-b61e-4a22-b664-d75aa4a220c4\n",
            "[I 2023-04-18 17:08:11,449] Trial 0 finished with value: 0.7452574372291565 and parameters: {'hidden_channels': 32, 'batch_size': 32, 'dropout': 0.0}. Best is trial 0 with value: 0.7452574372291565.\n",
            "[I 2023-04-18 17:08:54,950] Trial 1 finished with value: 0.6531165242195129 and parameters: {'hidden_channels': 32, 'batch_size': 128, 'dropout': 0.5}. Best is trial 0 with value: 0.7452574372291565.\n",
            "[I 2023-04-18 17:09:51,819] Trial 2 finished with value: 0.7398374080657959 and parameters: {'hidden_channels': 16, 'batch_size': 128, 'dropout': 0.5}. Best is trial 0 with value: 0.7452574372291565.\n",
            "[I 2023-04-18 17:10:24,851] Trial 3 finished with value: 0.7398374080657959 and parameters: {'hidden_channels': 16, 'batch_size': 32, 'dropout': 0.5}. Best is trial 0 with value: 0.7452574372291565.\n",
            "[I 2023-04-18 17:11:03,005] Trial 4 finished with value: 0.7046070694923401 and parameters: {'hidden_channels': 32, 'batch_size': 128, 'dropout': 0.0}. Best is trial 0 with value: 0.7452574372291565.\n",
            "[I 2023-04-18 17:11:05,506] Trial 5 pruned. Trial was pruned at epoch 0.\n",
            "[I 2023-04-18 17:11:08,234] Trial 6 pruned. Trial was pruned at epoch 0.\n",
            "[I 2023-04-18 17:11:15,655] Trial 7 pruned. Trial was pruned at epoch 4.\n"
          ]
        },
        {
          "name": "stdout",
          "output_type": "stream",
          "text": [
            "Best trial for fold 3: 0.7452574372291565\n"
          ]
        },
        {
          "data": {
            "text/html": [
              "<pre style=\"white-space:pre;overflow-x:auto;line-height:normal;font-family:Menlo,'DejaVu Sans Mono',consolas,'Courier New',monospace\">┏━━━━━━━━━━━━━━━━━━━━━━━━━━━┳━━━━━━━━━━━━━━━━━━━━━━━━━━━┓\n",
              "┃<span style=\"font-weight: bold\">        Test metric        </span>┃<span style=\"font-weight: bold\">       DataLoader 0        </span>┃\n",
              "┡━━━━━━━━━━━━━━━━━━━━━━━━━━━╇━━━━━━━━━━━━━━━━━━━━━━━━━━━┩\n",
              "│<span style=\"color: #008080; text-decoration-color: #008080\">         test_acc          </span>│<span style=\"color: #800080; text-decoration-color: #800080\">    0.5766423344612122     </span>│\n",
              "│<span style=\"color: #008080; text-decoration-color: #008080\">         test_loss         </span>│<span style=\"color: #800080; text-decoration-color: #800080\">    0.8860329389572144     </span>│\n",
              "└───────────────────────────┴───────────────────────────┘\n",
              "</pre>\n"
            ],
            "text/plain": [
              "┏━━━━━━━━━━━━━━━━━━━━━━━━━━━┳━━━━━━━━━━━━━━━━━━━━━━━━━━━┓\n",
              "┃\u001b[1m \u001b[0m\u001b[1m       Test metric       \u001b[0m\u001b[1m \u001b[0m┃\u001b[1m \u001b[0m\u001b[1m      DataLoader 0       \u001b[0m\u001b[1m \u001b[0m┃\n",
              "┡━━━━━━━━━━━━━━━━━━━━━━━━━━━╇━━━━━━━━━━━━━━━━━━━━━━━━━━━┩\n",
              "│\u001b[36m \u001b[0m\u001b[36m        test_acc         \u001b[0m\u001b[36m \u001b[0m│\u001b[35m \u001b[0m\u001b[35m   0.5766423344612122    \u001b[0m\u001b[35m \u001b[0m│\n",
              "│\u001b[36m \u001b[0m\u001b[36m        test_loss        \u001b[0m\u001b[36m \u001b[0m│\u001b[35m \u001b[0m\u001b[35m   0.8860329389572144    \u001b[0m\u001b[35m \u001b[0m│\n",
              "└───────────────────────────┴───────────────────────────┘\n"
            ]
          },
          "metadata": {},
          "output_type": "display_data"
        },
        {
          "name": "stderr",
          "output_type": "stream",
          "text": [
            "[I 2023-04-18 17:11:52,337] A new study created in memory with name: no-name-22996427-8d5c-4560-8d50-f6c4f6a306a7\n",
            "[I 2023-04-18 17:12:21,272] Trial 0 finished with value: 0.6124660968780518 and parameters: {'hidden_channels': 32, 'batch_size': 32, 'dropout': 0.0}. Best is trial 0 with value: 0.6124660968780518.\n",
            "[I 2023-04-18 17:12:52,264] Trial 1 finished with value: 0.7506775259971619 and parameters: {'hidden_channels': 32, 'batch_size': 128, 'dropout': 0.5}. Best is trial 1 with value: 0.7506775259971619.\n",
            "[I 2023-04-18 17:13:24,342] Trial 2 finished with value: 0.7127371430397034 and parameters: {'hidden_channels': 16, 'batch_size': 128, 'dropout': 0.5}. Best is trial 1 with value: 0.7506775259971619.\n",
            "[I 2023-04-18 17:13:53,341] Trial 3 finished with value: 0.6910569071769714 and parameters: {'hidden_channels': 16, 'batch_size': 32, 'dropout': 0.5}. Best is trial 1 with value: 0.7506775259971619.\n",
            "[I 2023-04-18 17:14:38,218] Trial 4 finished with value: 0.7018970251083374 and parameters: {'hidden_channels': 32, 'batch_size': 128, 'dropout': 0.0}. Best is trial 1 with value: 0.7506775259971619.\n",
            "[I 2023-04-18 17:14:40,164] Trial 5 pruned. Trial was pruned at epoch 0.\n",
            "[I 2023-04-18 17:15:13,951] Trial 6 finished with value: 0.7452574372291565 and parameters: {'hidden_channels': 16, 'batch_size': 32, 'dropout': 0.5}. Best is trial 1 with value: 0.7506775259971619.\n",
            "[I 2023-04-18 17:15:17,245] Trial 7 pruned. Trial was pruned at epoch 0.\n"
          ]
        },
        {
          "name": "stdout",
          "output_type": "stream",
          "text": [
            "Best trial for fold 4: 0.7506775259971619\n"
          ]
        },
        {
          "data": {
            "text/html": [
              "<pre style=\"white-space:pre;overflow-x:auto;line-height:normal;font-family:Menlo,'DejaVu Sans Mono',consolas,'Courier New',monospace\">┏━━━━━━━━━━━━━━━━━━━━━━━━━━━┳━━━━━━━━━━━━━━━━━━━━━━━━━━━┓\n",
              "┃<span style=\"font-weight: bold\">        Test metric        </span>┃<span style=\"font-weight: bold\">       DataLoader 0        </span>┃\n",
              "┡━━━━━━━━━━━━━━━━━━━━━━━━━━━╇━━━━━━━━━━━━━━━━━━━━━━━━━━━┩\n",
              "│<span style=\"color: #008080; text-decoration-color: #008080\">         test_acc          </span>│<span style=\"color: #800080; text-decoration-color: #800080\">    0.6180048584938049     </span>│\n",
              "│<span style=\"color: #008080; text-decoration-color: #008080\">         test_loss         </span>│<span style=\"color: #800080; text-decoration-color: #800080\">    0.6364033222198486     </span>│\n",
              "└───────────────────────────┴───────────────────────────┘\n",
              "</pre>\n"
            ],
            "text/plain": [
              "┏━━━━━━━━━━━━━━━━━━━━━━━━━━━┳━━━━━━━━━━━━━━━━━━━━━━━━━━━┓\n",
              "┃\u001b[1m \u001b[0m\u001b[1m       Test metric       \u001b[0m\u001b[1m \u001b[0m┃\u001b[1m \u001b[0m\u001b[1m      DataLoader 0       \u001b[0m\u001b[1m \u001b[0m┃\n",
              "┡━━━━━━━━━━━━━━━━━━━━━━━━━━━╇━━━━━━━━━━━━━━━━━━━━━━━━━━━┩\n",
              "│\u001b[36m \u001b[0m\u001b[36m        test_acc         \u001b[0m\u001b[36m \u001b[0m│\u001b[35m \u001b[0m\u001b[35m   0.6180048584938049    \u001b[0m\u001b[35m \u001b[0m│\n",
              "│\u001b[36m \u001b[0m\u001b[36m        test_loss        \u001b[0m\u001b[36m \u001b[0m│\u001b[35m \u001b[0m\u001b[35m   0.6364033222198486    \u001b[0m\u001b[35m \u001b[0m│\n",
              "└───────────────────────────┴───────────────────────────┘\n"
            ]
          },
          "metadata": {},
          "output_type": "display_data"
        },
        {
          "name": "stderr",
          "output_type": "stream",
          "text": [
            "[I 2023-04-18 17:15:39,655] A new study created in memory with name: no-name-f3ee8407-f073-4d50-a690-1939a41c8f97\n"
          ]
        },
        {
          "name": "stdout",
          "output_type": "stream",
          "text": [
            "Average performance for repetition 0: 0.6141119122505188\n"
          ]
        },
        {
          "name": "stderr",
          "output_type": "stream",
          "text": [
            "[I 2023-04-18 17:16:31,578] Trial 0 finished with value: 0.7317073345184326 and parameters: {'hidden_channels': 32, 'batch_size': 32, 'dropout': 0.0}. Best is trial 0 with value: 0.7317073345184326.\n",
            "[I 2023-04-18 17:17:11,088] Trial 1 finished with value: 0.6937669515609741 and parameters: {'hidden_channels': 32, 'batch_size': 128, 'dropout': 0.5}. Best is trial 0 with value: 0.7317073345184326.\n",
            "[I 2023-04-18 17:17:38,519] Trial 2 finished with value: 0.6910569071769714 and parameters: {'hidden_channels': 16, 'batch_size': 128, 'dropout': 0.5}. Best is trial 0 with value: 0.7317073345184326.\n",
            "[I 2023-04-18 17:17:58,547] Trial 3 finished with value: 0.7018970251083374 and parameters: {'hidden_channels': 16, 'batch_size': 32, 'dropout': 0.5}. Best is trial 0 with value: 0.7317073345184326.\n",
            "[I 2023-04-18 17:18:48,072] Trial 4 finished with value: 0.7235772609710693 and parameters: {'hidden_channels': 32, 'batch_size': 128, 'dropout': 0.0}. Best is trial 0 with value: 0.7317073345184326.\n",
            "[I 2023-04-18 17:19:12,052] Trial 5 finished with value: 0.7154471278190613 and parameters: {'hidden_channels': 16, 'batch_size': 128, 'dropout': 0.0}. Best is trial 0 with value: 0.7317073345184326.\n",
            "[I 2023-04-18 17:19:25,569] Trial 6 pruned. Trial was pruned at epoch 8.\n",
            "[I 2023-04-18 17:19:30,108] Trial 7 pruned. Trial was pruned at epoch 2.\n"
          ]
        },
        {
          "name": "stdout",
          "output_type": "stream",
          "text": [
            "Best trial for fold 0: 0.7317073345184326\n"
          ]
        },
        {
          "data": {
            "text/html": [
              "<pre style=\"white-space:pre;overflow-x:auto;line-height:normal;font-family:Menlo,'DejaVu Sans Mono',consolas,'Courier New',monospace\">┏━━━━━━━━━━━━━━━━━━━━━━━━━━━┳━━━━━━━━━━━━━━━━━━━━━━━━━━━┓\n",
              "┃<span style=\"font-weight: bold\">        Test metric        </span>┃<span style=\"font-weight: bold\">       DataLoader 0        </span>┃\n",
              "┡━━━━━━━━━━━━━━━━━━━━━━━━━━━╇━━━━━━━━━━━━━━━━━━━━━━━━━━━┩\n",
              "│<span style=\"color: #008080; text-decoration-color: #008080\">         test_acc          </span>│<span style=\"color: #800080; text-decoration-color: #800080\">    0.6155717968940735     </span>│\n",
              "│<span style=\"color: #008080; text-decoration-color: #008080\">         test_loss         </span>│<span style=\"color: #800080; text-decoration-color: #800080\">    0.6490557789802551     </span>│\n",
              "└───────────────────────────┴───────────────────────────┘\n",
              "</pre>\n"
            ],
            "text/plain": [
              "┏━━━━━━━━━━━━━━━━━━━━━━━━━━━┳━━━━━━━━━━━━━━━━━━━━━━━━━━━┓\n",
              "┃\u001b[1m \u001b[0m\u001b[1m       Test metric       \u001b[0m\u001b[1m \u001b[0m┃\u001b[1m \u001b[0m\u001b[1m      DataLoader 0       \u001b[0m\u001b[1m \u001b[0m┃\n",
              "┡━━━━━━━━━━━━━━━━━━━━━━━━━━━╇━━━━━━━━━━━━━━━━━━━━━━━━━━━┩\n",
              "│\u001b[36m \u001b[0m\u001b[36m        test_acc         \u001b[0m\u001b[36m \u001b[0m│\u001b[35m \u001b[0m\u001b[35m   0.6155717968940735    \u001b[0m\u001b[35m \u001b[0m│\n",
              "│\u001b[36m \u001b[0m\u001b[36m        test_loss        \u001b[0m\u001b[36m \u001b[0m│\u001b[35m \u001b[0m\u001b[35m   0.6490557789802551    \u001b[0m\u001b[35m \u001b[0m│\n",
              "└───────────────────────────┴───────────────────────────┘\n"
            ]
          },
          "metadata": {},
          "output_type": "display_data"
        },
        {
          "name": "stderr",
          "output_type": "stream",
          "text": [
            "[I 2023-04-18 17:20:03,368] A new study created in memory with name: no-name-3a33f50f-5ed1-4d32-a979-d8ee6e0c59fa\n",
            "[I 2023-04-18 17:20:28,593] Trial 0 finished with value: 0.7262872457504272 and parameters: {'hidden_channels': 32, 'batch_size': 32, 'dropout': 0.0}. Best is trial 0 with value: 0.7262872457504272.\n",
            "[I 2023-04-18 17:21:05,460] Trial 1 finished with value: 0.7344173192977905 and parameters: {'hidden_channels': 32, 'batch_size': 128, 'dropout': 0.5}. Best is trial 1 with value: 0.7344173192977905.\n",
            "[I 2023-04-18 17:21:28,692] Trial 2 finished with value: 0.7154471278190613 and parameters: {'hidden_channels': 16, 'batch_size': 128, 'dropout': 0.5}. Best is trial 1 with value: 0.7344173192977905.\n",
            "[I 2023-04-18 17:22:14,309] Trial 3 finished with value: 0.7235772609710693 and parameters: {'hidden_channels': 16, 'batch_size': 32, 'dropout': 0.5}. Best is trial 1 with value: 0.7344173192977905.\n",
            "[I 2023-04-18 17:22:43,781] Trial 4 finished with value: 0.7154471278190613 and parameters: {'hidden_channels': 32, 'batch_size': 128, 'dropout': 0.0}. Best is trial 1 with value: 0.7344173192977905.\n",
            "[I 2023-04-18 17:22:47,074] Trial 5 pruned. Trial was pruned at epoch 0.\n",
            "[I 2023-04-18 17:23:47,352] Trial 6 finished with value: 0.7262872457504272 and parameters: {'hidden_channels': 16, 'batch_size': 32, 'dropout': 0.5}. Best is trial 1 with value: 0.7344173192977905.\n",
            "[I 2023-04-18 17:23:49,436] Trial 7 pruned. Trial was pruned at epoch 0.\n"
          ]
        },
        {
          "name": "stdout",
          "output_type": "stream",
          "text": [
            "Best trial for fold 1: 0.7344173192977905\n"
          ]
        },
        {
          "data": {
            "text/html": [
              "<pre style=\"white-space:pre;overflow-x:auto;line-height:normal;font-family:Menlo,'DejaVu Sans Mono',consolas,'Courier New',monospace\">┏━━━━━━━━━━━━━━━━━━━━━━━━━━━┳━━━━━━━━━━━━━━━━━━━━━━━━━━━┓\n",
              "┃<span style=\"font-weight: bold\">        Test metric        </span>┃<span style=\"font-weight: bold\">       DataLoader 0        </span>┃\n",
              "┡━━━━━━━━━━━━━━━━━━━━━━━━━━━╇━━━━━━━━━━━━━━━━━━━━━━━━━━━┩\n",
              "│<span style=\"color: #008080; text-decoration-color: #008080\">         test_acc          </span>│<span style=\"color: #800080; text-decoration-color: #800080\">    0.6350364685058594     </span>│\n",
              "│<span style=\"color: #008080; text-decoration-color: #008080\">         test_loss         </span>│<span style=\"color: #800080; text-decoration-color: #800080\">    0.6540365219116211     </span>│\n",
              "└───────────────────────────┴───────────────────────────┘\n",
              "</pre>\n"
            ],
            "text/plain": [
              "┏━━━━━━━━━━━━━━━━━━━━━━━━━━━┳━━━━━━━━━━━━━━━━━━━━━━━━━━━┓\n",
              "┃\u001b[1m \u001b[0m\u001b[1m       Test metric       \u001b[0m\u001b[1m \u001b[0m┃\u001b[1m \u001b[0m\u001b[1m      DataLoader 0       \u001b[0m\u001b[1m \u001b[0m┃\n",
              "┡━━━━━━━━━━━━━━━━━━━━━━━━━━━╇━━━━━━━━━━━━━━━━━━━━━━━━━━━┩\n",
              "│\u001b[36m \u001b[0m\u001b[36m        test_acc         \u001b[0m\u001b[36m \u001b[0m│\u001b[35m \u001b[0m\u001b[35m   0.6350364685058594    \u001b[0m\u001b[35m \u001b[0m│\n",
              "│\u001b[36m \u001b[0m\u001b[36m        test_loss        \u001b[0m\u001b[36m \u001b[0m│\u001b[35m \u001b[0m\u001b[35m   0.6540365219116211    \u001b[0m\u001b[35m \u001b[0m│\n",
              "└───────────────────────────┴───────────────────────────┘\n"
            ]
          },
          "metadata": {},
          "output_type": "display_data"
        },
        {
          "name": "stderr",
          "output_type": "stream",
          "text": [
            "[I 2023-04-18 17:24:24,403] A new study created in memory with name: no-name-f6db7c6a-632d-41e6-bd57-6f1ef193df55\n",
            "[I 2023-04-18 17:25:29,237] Trial 0 finished with value: 0.6747967600822449 and parameters: {'hidden_channels': 32, 'batch_size': 32, 'dropout': 0.0}. Best is trial 0 with value: 0.6747967600822449.\n",
            "[I 2023-04-18 17:26:00,235] Trial 1 finished with value: 0.7344173192977905 and parameters: {'hidden_channels': 32, 'batch_size': 128, 'dropout': 0.5}. Best is trial 1 with value: 0.7344173192977905.\n",
            "[I 2023-04-18 17:26:46,933] Trial 2 finished with value: 0.6829268336296082 and parameters: {'hidden_channels': 16, 'batch_size': 128, 'dropout': 0.5}. Best is trial 1 with value: 0.7344173192977905.\n",
            "[I 2023-04-18 17:28:01,411] Trial 3 finished with value: 0.7344173192977905 and parameters: {'hidden_channels': 16, 'batch_size': 32, 'dropout': 0.5}. Best is trial 1 with value: 0.7344173192977905.\n",
            "[I 2023-04-18 17:28:50,127] Trial 4 finished with value: 0.7127371430397034 and parameters: {'hidden_channels': 32, 'batch_size': 128, 'dropout': 0.0}. Best is trial 1 with value: 0.7344173192977905.\n",
            "[I 2023-04-18 17:28:52,192] Trial 5 pruned. Trial was pruned at epoch 0.\n",
            "[I 2023-04-18 17:28:54,271] Trial 6 pruned. Trial was pruned at epoch 0.\n",
            "[I 2023-04-18 17:28:56,830] Trial 7 pruned. Trial was pruned at epoch 0.\n"
          ]
        },
        {
          "name": "stdout",
          "output_type": "stream",
          "text": [
            "Best trial for fold 2: 0.7344173192977905\n"
          ]
        },
        {
          "data": {
            "text/html": [
              "<pre style=\"white-space:pre;overflow-x:auto;line-height:normal;font-family:Menlo,'DejaVu Sans Mono',consolas,'Courier New',monospace\">┏━━━━━━━━━━━━━━━━━━━━━━━━━━━┳━━━━━━━━━━━━━━━━━━━━━━━━━━━┓\n",
              "┃<span style=\"font-weight: bold\">        Test metric        </span>┃<span style=\"font-weight: bold\">       DataLoader 0        </span>┃\n",
              "┡━━━━━━━━━━━━━━━━━━━━━━━━━━━╇━━━━━━━━━━━━━━━━━━━━━━━━━━━┩\n",
              "│<span style=\"color: #008080; text-decoration-color: #008080\">         test_acc          </span>│<span style=\"color: #800080; text-decoration-color: #800080\">    0.6618005037307739     </span>│\n",
              "│<span style=\"color: #008080; text-decoration-color: #008080\">         test_loss         </span>│<span style=\"color: #800080; text-decoration-color: #800080\">    0.6685842871665955     </span>│\n",
              "└───────────────────────────┴───────────────────────────┘\n",
              "</pre>\n"
            ],
            "text/plain": [
              "┏━━━━━━━━━━━━━━━━━━━━━━━━━━━┳━━━━━━━━━━━━━━━━━━━━━━━━━━━┓\n",
              "┃\u001b[1m \u001b[0m\u001b[1m       Test metric       \u001b[0m\u001b[1m \u001b[0m┃\u001b[1m \u001b[0m\u001b[1m      DataLoader 0       \u001b[0m\u001b[1m \u001b[0m┃\n",
              "┡━━━━━━━━━━━━━━━━━━━━━━━━━━━╇━━━━━━━━━━━━━━━━━━━━━━━━━━━┩\n",
              "│\u001b[36m \u001b[0m\u001b[36m        test_acc         \u001b[0m\u001b[36m \u001b[0m│\u001b[35m \u001b[0m\u001b[35m   0.6618005037307739    \u001b[0m\u001b[35m \u001b[0m│\n",
              "│\u001b[36m \u001b[0m\u001b[36m        test_loss        \u001b[0m\u001b[36m \u001b[0m│\u001b[35m \u001b[0m\u001b[35m   0.6685842871665955    \u001b[0m\u001b[35m \u001b[0m│\n",
              "└───────────────────────────┴───────────────────────────┘\n"
            ]
          },
          "metadata": {},
          "output_type": "display_data"
        },
        {
          "name": "stderr",
          "output_type": "stream",
          "text": [
            "[I 2023-04-18 17:29:24,743] A new study created in memory with name: no-name-b61360a3-569a-43cd-9b06-2ca49092285e\n",
            "[I 2023-04-18 17:29:47,115] Trial 0 finished with value: 0.7317073345184326 and parameters: {'hidden_channels': 32, 'batch_size': 32, 'dropout': 0.0}. Best is trial 0 with value: 0.7317073345184326.\n",
            "[I 2023-04-18 17:30:35,740] Trial 1 finished with value: 0.7344173192977905 and parameters: {'hidden_channels': 32, 'batch_size': 128, 'dropout': 0.5}. Best is trial 1 with value: 0.7344173192977905.\n",
            "[I 2023-04-18 17:30:57,967] Trial 2 finished with value: 0.7018970251083374 and parameters: {'hidden_channels': 16, 'batch_size': 128, 'dropout': 0.5}. Best is trial 1 with value: 0.7344173192977905.\n",
            "[I 2023-04-18 17:31:43,855] Trial 3 finished with value: 0.7046070694923401 and parameters: {'hidden_channels': 16, 'batch_size': 32, 'dropout': 0.5}. Best is trial 1 with value: 0.7344173192977905.\n",
            "[I 2023-04-18 17:32:14,873] Trial 4 finished with value: 0.707317054271698 and parameters: {'hidden_channels': 32, 'batch_size': 128, 'dropout': 0.0}. Best is trial 1 with value: 0.7344173192977905.\n",
            "[I 2023-04-18 17:32:16,939] Trial 5 pruned. Trial was pruned at epoch 0.\n",
            "[I 2023-04-18 17:32:18,955] Trial 6 pruned. Trial was pruned at epoch 0.\n",
            "[I 2023-04-18 17:32:47,407] Trial 7 finished with value: 0.7398374080657959 and parameters: {'hidden_channels': 32, 'batch_size': 128, 'dropout': 0.5}. Best is trial 7 with value: 0.7398374080657959.\n"
          ]
        },
        {
          "name": "stdout",
          "output_type": "stream",
          "text": [
            "Best trial for fold 3: 0.7398374080657959\n"
          ]
        },
        {
          "data": {
            "text/html": [
              "<pre style=\"white-space:pre;overflow-x:auto;line-height:normal;font-family:Menlo,'DejaVu Sans Mono',consolas,'Courier New',monospace\">┏━━━━━━━━━━━━━━━━━━━━━━━━━━━┳━━━━━━━━━━━━━━━━━━━━━━━━━━━┓\n",
              "┃<span style=\"font-weight: bold\">        Test metric        </span>┃<span style=\"font-weight: bold\">       DataLoader 0        </span>┃\n",
              "┡━━━━━━━━━━━━━━━━━━━━━━━━━━━╇━━━━━━━━━━━━━━━━━━━━━━━━━━━┩\n",
              "│<span style=\"color: #008080; text-decoration-color: #008080\">         test_acc          </span>│<span style=\"color: #800080; text-decoration-color: #800080\">    0.6277372241020203     </span>│\n",
              "│<span style=\"color: #008080; text-decoration-color: #008080\">         test_loss         </span>│<span style=\"color: #800080; text-decoration-color: #800080\">    0.6542025804519653     </span>│\n",
              "└───────────────────────────┴───────────────────────────┘\n",
              "</pre>\n"
            ],
            "text/plain": [
              "┏━━━━━━━━━━━━━━━━━━━━━━━━━━━┳━━━━━━━━━━━━━━━━━━━━━━━━━━━┓\n",
              "┃\u001b[1m \u001b[0m\u001b[1m       Test metric       \u001b[0m\u001b[1m \u001b[0m┃\u001b[1m \u001b[0m\u001b[1m      DataLoader 0       \u001b[0m\u001b[1m \u001b[0m┃\n",
              "┡━━━━━━━━━━━━━━━━━━━━━━━━━━━╇━━━━━━━━━━━━━━━━━━━━━━━━━━━┩\n",
              "│\u001b[36m \u001b[0m\u001b[36m        test_acc         \u001b[0m\u001b[36m \u001b[0m│\u001b[35m \u001b[0m\u001b[35m   0.6277372241020203    \u001b[0m\u001b[35m \u001b[0m│\n",
              "│\u001b[36m \u001b[0m\u001b[36m        test_loss        \u001b[0m\u001b[36m \u001b[0m│\u001b[35m \u001b[0m\u001b[35m   0.6542025804519653    \u001b[0m\u001b[35m \u001b[0m│\n",
              "└───────────────────────────┴───────────────────────────┘\n"
            ]
          },
          "metadata": {},
          "output_type": "display_data"
        },
        {
          "name": "stderr",
          "output_type": "stream",
          "text": [
            "[I 2023-04-18 17:33:27,615] A new study created in memory with name: no-name-1a6bb35f-4dcf-497c-bec3-6486828aa1f9\n",
            "[I 2023-04-18 17:34:11,610] Trial 0 finished with value: 0.7371273636817932 and parameters: {'hidden_channels': 32, 'batch_size': 32, 'dropout': 0.0}. Best is trial 0 with value: 0.7371273636817932.\n",
            "[I 2023-04-18 17:34:57,458] Trial 1 finished with value: 0.6829268336296082 and parameters: {'hidden_channels': 32, 'batch_size': 128, 'dropout': 0.5}. Best is trial 0 with value: 0.7371273636817932.\n",
            "[I 2023-04-18 17:35:21,672] Trial 2 finished with value: 0.7100270986557007 and parameters: {'hidden_channels': 16, 'batch_size': 128, 'dropout': 0.5}. Best is trial 0 with value: 0.7371273636817932.\n",
            "[I 2023-04-18 17:35:43,611] Trial 3 finished with value: 0.6991869807243347 and parameters: {'hidden_channels': 16, 'batch_size': 32, 'dropout': 0.5}. Best is trial 0 with value: 0.7371273636817932.\n",
            "[I 2023-04-18 17:36:07,043] Trial 4 finished with value: 0.6043360233306885 and parameters: {'hidden_channels': 32, 'batch_size': 128, 'dropout': 0.0}. Best is trial 0 with value: 0.7371273636817932.\n",
            "[I 2023-04-18 17:36:09,556] Trial 5 pruned. Trial was pruned at epoch 0.\n",
            "[I 2023-04-18 17:36:16,014] Trial 6 pruned. Trial was pruned at epoch 3.\n",
            "[I 2023-04-18 17:36:18,676] Trial 7 pruned. Trial was pruned at epoch 0.\n"
          ]
        },
        {
          "name": "stdout",
          "output_type": "stream",
          "text": [
            "Best trial for fold 4: 0.7371273636817932\n"
          ]
        },
        {
          "data": {
            "text/html": [
              "<pre style=\"white-space:pre;overflow-x:auto;line-height:normal;font-family:Menlo,'DejaVu Sans Mono',consolas,'Courier New',monospace\">┏━━━━━━━━━━━━━━━━━━━━━━━━━━━┳━━━━━━━━━━━━━━━━━━━━━━━━━━━┓\n",
              "┃<span style=\"font-weight: bold\">        Test metric        </span>┃<span style=\"font-weight: bold\">       DataLoader 0        </span>┃\n",
              "┡━━━━━━━━━━━━━━━━━━━━━━━━━━━╇━━━━━━━━━━━━━━━━━━━━━━━━━━━┩\n",
              "│<span style=\"color: #008080; text-decoration-color: #008080\">         test_acc          </span>│<span style=\"color: #800080; text-decoration-color: #800080\">    0.6350364685058594     </span>│\n",
              "│<span style=\"color: #008080; text-decoration-color: #008080\">         test_loss         </span>│<span style=\"color: #800080; text-decoration-color: #800080\">     0.73068767786026      </span>│\n",
              "└───────────────────────────┴───────────────────────────┘\n",
              "</pre>\n"
            ],
            "text/plain": [
              "┏━━━━━━━━━━━━━━━━━━━━━━━━━━━┳━━━━━━━━━━━━━━━━━━━━━━━━━━━┓\n",
              "┃\u001b[1m \u001b[0m\u001b[1m       Test metric       \u001b[0m\u001b[1m \u001b[0m┃\u001b[1m \u001b[0m\u001b[1m      DataLoader 0       \u001b[0m\u001b[1m \u001b[0m┃\n",
              "┡━━━━━━━━━━━━━━━━━━━━━━━━━━━╇━━━━━━━━━━━━━━━━━━━━━━━━━━━┩\n",
              "│\u001b[36m \u001b[0m\u001b[36m        test_acc         \u001b[0m\u001b[36m \u001b[0m│\u001b[35m \u001b[0m\u001b[35m   0.6350364685058594    \u001b[0m\u001b[35m \u001b[0m│\n",
              "│\u001b[36m \u001b[0m\u001b[36m        test_loss        \u001b[0m\u001b[36m \u001b[0m│\u001b[35m \u001b[0m\u001b[35m    0.73068767786026     \u001b[0m\u001b[35m \u001b[0m│\n",
              "└───────────────────────────┴───────────────────────────┘\n"
            ]
          },
          "metadata": {},
          "output_type": "display_data"
        },
        {
          "name": "stderr",
          "output_type": "stream",
          "text": [
            "[I 2023-04-18 17:36:56,808] A new study created in memory with name: no-name-e54d73ca-8fa1-43e1-89ad-2813d69f5dc6\n"
          ]
        },
        {
          "name": "stdout",
          "output_type": "stream",
          "text": [
            "Average performance for repetition 1: 0.6350364923477173\n"
          ]
        },
        {
          "name": "stderr",
          "output_type": "stream",
          "text": [
            "[I 2023-04-18 17:37:36,988] Trial 0 finished with value: 0.7262872457504272 and parameters: {'hidden_channels': 32, 'batch_size': 32, 'dropout': 0.0}. Best is trial 0 with value: 0.7262872457504272.\n",
            "[I 2023-04-18 17:37:59,107] Trial 1 finished with value: 0.7046070694923401 and parameters: {'hidden_channels': 32, 'batch_size': 128, 'dropout': 0.5}. Best is trial 0 with value: 0.7262872457504272.\n",
            "[I 2023-04-18 17:38:48,005] Trial 2 finished with value: 0.7479674816131592 and parameters: {'hidden_channels': 16, 'batch_size': 128, 'dropout': 0.5}. Best is trial 2 with value: 0.7479674816131592.\n",
            "[I 2023-04-18 17:39:21,572] Trial 3 finished with value: 0.6639566421508789 and parameters: {'hidden_channels': 16, 'batch_size': 32, 'dropout': 0.5}. Best is trial 2 with value: 0.7479674816131592.\n",
            "[I 2023-04-18 17:40:09,955] Trial 4 finished with value: 0.6802167892456055 and parameters: {'hidden_channels': 32, 'batch_size': 128, 'dropout': 0.0}. Best is trial 2 with value: 0.7479674816131592.\n",
            "[I 2023-04-18 17:40:12,031] Trial 5 pruned. Trial was pruned at epoch 0.\n",
            "[I 2023-04-18 17:40:46,511] Trial 6 finished with value: 0.7696477174758911 and parameters: {'hidden_channels': 16, 'batch_size': 32, 'dropout': 0.5}. Best is trial 6 with value: 0.7696477174758911.\n",
            "[I 2023-04-18 17:40:52,033] Trial 7 pruned. Trial was pruned at epoch 2.\n"
          ]
        },
        {
          "name": "stdout",
          "output_type": "stream",
          "text": [
            "Best trial for fold 0: 0.7696477174758911\n"
          ]
        },
        {
          "data": {
            "text/html": [
              "<pre style=\"white-space:pre;overflow-x:auto;line-height:normal;font-family:Menlo,'DejaVu Sans Mono',consolas,'Courier New',monospace\">┏━━━━━━━━━━━━━━━━━━━━━━━━━━━┳━━━━━━━━━━━━━━━━━━━━━━━━━━━┓\n",
              "┃<span style=\"font-weight: bold\">        Test metric        </span>┃<span style=\"font-weight: bold\">       DataLoader 0        </span>┃\n",
              "┡━━━━━━━━━━━━━━━━━━━━━━━━━━━╇━━━━━━━━━━━━━━━━━━━━━━━━━━━┩\n",
              "│<span style=\"color: #008080; text-decoration-color: #008080\">         test_acc          </span>│<span style=\"color: #800080; text-decoration-color: #800080\">    0.6666666865348816     </span>│\n",
              "│<span style=\"color: #008080; text-decoration-color: #008080\">         test_loss         </span>│<span style=\"color: #800080; text-decoration-color: #800080\">    0.6420630812644958     </span>│\n",
              "└───────────────────────────┴───────────────────────────┘\n",
              "</pre>\n"
            ],
            "text/plain": [
              "┏━━━━━━━━━━━━━━━━━━━━━━━━━━━┳━━━━━━━━━━━━━━━━━━━━━━━━━━━┓\n",
              "┃\u001b[1m \u001b[0m\u001b[1m       Test metric       \u001b[0m\u001b[1m \u001b[0m┃\u001b[1m \u001b[0m\u001b[1m      DataLoader 0       \u001b[0m\u001b[1m \u001b[0m┃\n",
              "┡━━━━━━━━━━━━━━━━━━━━━━━━━━━╇━━━━━━━━━━━━━━━━━━━━━━━━━━━┩\n",
              "│\u001b[36m \u001b[0m\u001b[36m        test_acc         \u001b[0m\u001b[36m \u001b[0m│\u001b[35m \u001b[0m\u001b[35m   0.6666666865348816    \u001b[0m\u001b[35m \u001b[0m│\n",
              "│\u001b[36m \u001b[0m\u001b[36m        test_loss        \u001b[0m\u001b[36m \u001b[0m│\u001b[35m \u001b[0m\u001b[35m   0.6420630812644958    \u001b[0m\u001b[35m \u001b[0m│\n",
              "└───────────────────────────┴───────────────────────────┘\n"
            ]
          },
          "metadata": {},
          "output_type": "display_data"
        },
        {
          "name": "stderr",
          "output_type": "stream",
          "text": [
            "[I 2023-04-18 17:41:17,497] A new study created in memory with name: no-name-17787e67-80ef-4afc-b040-d5a130a22159\n",
            "[I 2023-04-18 17:41:58,282] Trial 0 finished with value: 0.7886179089546204 and parameters: {'hidden_channels': 32, 'batch_size': 32, 'dropout': 0.0}. Best is trial 0 with value: 0.7886179089546204.\n",
            "[I 2023-04-18 17:42:35,860] Trial 1 finished with value: 0.7262872457504272 and parameters: {'hidden_channels': 32, 'batch_size': 128, 'dropout': 0.5}. Best is trial 0 with value: 0.7886179089546204.\n",
            "[I 2023-04-18 17:43:30,421] Trial 2 finished with value: 0.7154471278190613 and parameters: {'hidden_channels': 16, 'batch_size': 128, 'dropout': 0.5}. Best is trial 0 with value: 0.7886179089546204.\n",
            "[I 2023-04-18 17:44:01,066] Trial 3 finished with value: 0.7046070694923401 and parameters: {'hidden_channels': 16, 'batch_size': 32, 'dropout': 0.5}. Best is trial 0 with value: 0.7886179089546204.\n",
            "[I 2023-04-18 17:45:21,221] Trial 4 finished with value: 0.7208672165870667 and parameters: {'hidden_channels': 32, 'batch_size': 128, 'dropout': 0.0}. Best is trial 0 with value: 0.7886179089546204.\n",
            "[I 2023-04-18 17:45:23,244] Trial 5 pruned. Trial was pruned at epoch 0.\n",
            "[I 2023-04-18 17:45:25,562] Trial 6 pruned. Trial was pruned at epoch 0.\n",
            "[I 2023-04-18 17:45:28,415] Trial 7 pruned. Trial was pruned at epoch 0.\n"
          ]
        },
        {
          "name": "stdout",
          "output_type": "stream",
          "text": [
            "Best trial for fold 1: 0.7886179089546204\n"
          ]
        },
        {
          "data": {
            "text/html": [
              "<pre style=\"white-space:pre;overflow-x:auto;line-height:normal;font-family:Menlo,'DejaVu Sans Mono',consolas,'Courier New',monospace\">┏━━━━━━━━━━━━━━━━━━━━━━━━━━━┳━━━━━━━━━━━━━━━━━━━━━━━━━━━┓\n",
              "┃<span style=\"font-weight: bold\">        Test metric        </span>┃<span style=\"font-weight: bold\">       DataLoader 0        </span>┃\n",
              "┡━━━━━━━━━━━━━━━━━━━━━━━━━━━╇━━━━━━━━━━━━━━━━━━━━━━━━━━━┩\n",
              "│<span style=\"color: #008080; text-decoration-color: #008080\">         test_acc          </span>│<span style=\"color: #800080; text-decoration-color: #800080\">    0.6301703453063965     </span>│\n",
              "│<span style=\"color: #008080; text-decoration-color: #008080\">         test_loss         </span>│<span style=\"color: #800080; text-decoration-color: #800080\">     0.689812421798706     </span>│\n",
              "└───────────────────────────┴───────────────────────────┘\n",
              "</pre>\n"
            ],
            "text/plain": [
              "┏━━━━━━━━━━━━━━━━━━━━━━━━━━━┳━━━━━━━━━━━━━━━━━━━━━━━━━━━┓\n",
              "┃\u001b[1m \u001b[0m\u001b[1m       Test metric       \u001b[0m\u001b[1m \u001b[0m┃\u001b[1m \u001b[0m\u001b[1m      DataLoader 0       \u001b[0m\u001b[1m \u001b[0m┃\n",
              "┡━━━━━━━━━━━━━━━━━━━━━━━━━━━╇━━━━━━━━━━━━━━━━━━━━━━━━━━━┩\n",
              "│\u001b[36m \u001b[0m\u001b[36m        test_acc         \u001b[0m\u001b[36m \u001b[0m│\u001b[35m \u001b[0m\u001b[35m   0.6301703453063965    \u001b[0m\u001b[35m \u001b[0m│\n",
              "│\u001b[36m \u001b[0m\u001b[36m        test_loss        \u001b[0m\u001b[36m \u001b[0m│\u001b[35m \u001b[0m\u001b[35m    0.689812421798706    \u001b[0m\u001b[35m \u001b[0m│\n",
              "└───────────────────────────┴───────────────────────────┘\n"
            ]
          },
          "metadata": {},
          "output_type": "display_data"
        },
        {
          "name": "stderr",
          "output_type": "stream",
          "text": [
            "[I 2023-04-18 17:46:07,753] A new study created in memory with name: no-name-83009c1e-9ada-4a1e-a137-2a5fb0e0363e\n",
            "[I 2023-04-18 17:46:45,734] Trial 0 finished with value: 0.7371273636817932 and parameters: {'hidden_channels': 32, 'batch_size': 32, 'dropout': 0.0}. Best is trial 0 with value: 0.7371273636817932.\n",
            "[I 2023-04-18 17:47:13,406] Trial 1 finished with value: 0.7018970251083374 and parameters: {'hidden_channels': 32, 'batch_size': 128, 'dropout': 0.5}. Best is trial 0 with value: 0.7371273636817932.\n",
            "[I 2023-04-18 17:47:48,052] Trial 2 finished with value: 0.7371273636817932 and parameters: {'hidden_channels': 16, 'batch_size': 128, 'dropout': 0.5}. Best is trial 0 with value: 0.7371273636817932.\n",
            "[I 2023-04-18 17:48:20,514] Trial 3 finished with value: 0.6883468627929688 and parameters: {'hidden_channels': 16, 'batch_size': 32, 'dropout': 0.5}. Best is trial 0 with value: 0.7371273636817932.\n",
            "[I 2023-04-18 17:48:47,187] Trial 4 finished with value: 0.7208672165870667 and parameters: {'hidden_channels': 32, 'batch_size': 128, 'dropout': 0.0}. Best is trial 0 with value: 0.7371273636817932.\n",
            "[I 2023-04-18 17:49:23,665] Trial 5 finished with value: 0.7398374080657959 and parameters: {'hidden_channels': 16, 'batch_size': 128, 'dropout': 0.0}. Best is trial 5 with value: 0.7398374080657959.\n",
            "[I 2023-04-18 17:49:28,285] Trial 6 pruned. Trial was pruned at epoch 2.\n",
            "[I 2023-04-18 17:49:30,313] Trial 7 pruned. Trial was pruned at epoch 0.\n"
          ]
        },
        {
          "name": "stdout",
          "output_type": "stream",
          "text": [
            "Best trial for fold 2: 0.7398374080657959\n"
          ]
        },
        {
          "data": {
            "text/html": [
              "<pre style=\"white-space:pre;overflow-x:auto;line-height:normal;font-family:Menlo,'DejaVu Sans Mono',consolas,'Courier New',monospace\">┏━━━━━━━━━━━━━━━━━━━━━━━━━━━┳━━━━━━━━━━━━━━━━━━━━━━━━━━━┓\n",
              "┃<span style=\"font-weight: bold\">        Test metric        </span>┃<span style=\"font-weight: bold\">       DataLoader 0        </span>┃\n",
              "┡━━━━━━━━━━━━━━━━━━━━━━━━━━━╇━━━━━━━━━━━━━━━━━━━━━━━━━━━┩\n",
              "│<span style=\"color: #008080; text-decoration-color: #008080\">         test_acc          </span>│<span style=\"color: #800080; text-decoration-color: #800080\">     0.669099748134613     </span>│\n",
              "│<span style=\"color: #008080; text-decoration-color: #008080\">         test_loss         </span>│<span style=\"color: #800080; text-decoration-color: #800080\">     0.646120011806488     </span>│\n",
              "└───────────────────────────┴───────────────────────────┘\n",
              "</pre>\n"
            ],
            "text/plain": [
              "┏━━━━━━━━━━━━━━━━━━━━━━━━━━━┳━━━━━━━━━━━━━━━━━━━━━━━━━━━┓\n",
              "┃\u001b[1m \u001b[0m\u001b[1m       Test metric       \u001b[0m\u001b[1m \u001b[0m┃\u001b[1m \u001b[0m\u001b[1m      DataLoader 0       \u001b[0m\u001b[1m \u001b[0m┃\n",
              "┡━━━━━━━━━━━━━━━━━━━━━━━━━━━╇━━━━━━━━━━━━━━━━━━━━━━━━━━━┩\n",
              "│\u001b[36m \u001b[0m\u001b[36m        test_acc         \u001b[0m\u001b[36m \u001b[0m│\u001b[35m \u001b[0m\u001b[35m    0.669099748134613    \u001b[0m\u001b[35m \u001b[0m│\n",
              "│\u001b[36m \u001b[0m\u001b[36m        test_loss        \u001b[0m\u001b[36m \u001b[0m│\u001b[35m \u001b[0m\u001b[35m    0.646120011806488    \u001b[0m\u001b[35m \u001b[0m│\n",
              "└───────────────────────────┴───────────────────────────┘\n"
            ]
          },
          "metadata": {},
          "output_type": "display_data"
        },
        {
          "name": "stderr",
          "output_type": "stream",
          "text": [
            "[I 2023-04-18 17:50:09,546] A new study created in memory with name: no-name-5f9eb1a5-0b04-4c92-88ea-0500a8b8f2d9\n",
            "[I 2023-04-18 17:50:43,652] Trial 0 finished with value: 0.7588075995445251 and parameters: {'hidden_channels': 32, 'batch_size': 32, 'dropout': 0.0}. Best is trial 0 with value: 0.7588075995445251.\n",
            "[I 2023-04-18 17:51:38,878] Trial 1 finished with value: 0.7452574372291565 and parameters: {'hidden_channels': 32, 'batch_size': 128, 'dropout': 0.5}. Best is trial 0 with value: 0.7588075995445251.\n",
            "[I 2023-04-18 17:52:12,348] Trial 2 finished with value: 0.7018970251083374 and parameters: {'hidden_channels': 16, 'batch_size': 128, 'dropout': 0.5}. Best is trial 0 with value: 0.7588075995445251.\n",
            "[I 2023-04-18 17:52:55,278] Trial 3 finished with value: 0.7506775259971619 and parameters: {'hidden_channels': 16, 'batch_size': 32, 'dropout': 0.5}. Best is trial 0 with value: 0.7588075995445251.\n",
            "[I 2023-04-18 17:53:20,381] Trial 4 finished with value: 0.6693766713142395 and parameters: {'hidden_channels': 32, 'batch_size': 128, 'dropout': 0.0}. Best is trial 0 with value: 0.7588075995445251.\n",
            "[I 2023-04-18 17:53:30,030] Trial 5 pruned. Trial was pruned at epoch 5.\n",
            "[I 2023-04-18 17:53:39,284] Trial 6 pruned. Trial was pruned at epoch 5.\n",
            "[I 2023-04-18 17:53:48,626] Trial 7 pruned. Trial was pruned at epoch 5.\n"
          ]
        },
        {
          "name": "stdout",
          "output_type": "stream",
          "text": [
            "Best trial for fold 3: 0.7588075995445251\n"
          ]
        },
        {
          "data": {
            "text/html": [
              "<pre style=\"white-space:pre;overflow-x:auto;line-height:normal;font-family:Menlo,'DejaVu Sans Mono',consolas,'Courier New',monospace\">┏━━━━━━━━━━━━━━━━━━━━━━━━━━━┳━━━━━━━━━━━━━━━━━━━━━━━━━━━┓\n",
              "┃<span style=\"font-weight: bold\">        Test metric        </span>┃<span style=\"font-weight: bold\">       DataLoader 0        </span>┃\n",
              "┡━━━━━━━━━━━━━━━━━━━━━━━━━━━╇━━━━━━━━━━━━━━━━━━━━━━━━━━━┩\n",
              "│<span style=\"color: #008080; text-decoration-color: #008080\">         test_acc          </span>│<span style=\"color: #800080; text-decoration-color: #800080\">     0.65450119972229      </span>│\n",
              "│<span style=\"color: #008080; text-decoration-color: #008080\">         test_loss         </span>│<span style=\"color: #800080; text-decoration-color: #800080\">    0.6553006768226624     </span>│\n",
              "└───────────────────────────┴───────────────────────────┘\n",
              "</pre>\n"
            ],
            "text/plain": [
              "┏━━━━━━━━━━━━━━━━━━━━━━━━━━━┳━━━━━━━━━━━━━━━━━━━━━━━━━━━┓\n",
              "┃\u001b[1m \u001b[0m\u001b[1m       Test metric       \u001b[0m\u001b[1m \u001b[0m┃\u001b[1m \u001b[0m\u001b[1m      DataLoader 0       \u001b[0m\u001b[1m \u001b[0m┃\n",
              "┡━━━━━━━━━━━━━━━━━━━━━━━━━━━╇━━━━━━━━━━━━━━━━━━━━━━━━━━━┩\n",
              "│\u001b[36m \u001b[0m\u001b[36m        test_acc         \u001b[0m\u001b[36m \u001b[0m│\u001b[35m \u001b[0m\u001b[35m    0.65450119972229     \u001b[0m\u001b[35m \u001b[0m│\n",
              "│\u001b[36m \u001b[0m\u001b[36m        test_loss        \u001b[0m\u001b[36m \u001b[0m│\u001b[35m \u001b[0m\u001b[35m   0.6553006768226624    \u001b[0m\u001b[35m \u001b[0m│\n",
              "└───────────────────────────┴───────────────────────────┘\n"
            ]
          },
          "metadata": {},
          "output_type": "display_data"
        },
        {
          "name": "stderr",
          "output_type": "stream",
          "text": [
            "[I 2023-04-18 17:54:36,546] A new study created in memory with name: no-name-f1766f17-a121-4661-8fe2-87147b2caf79\n",
            "[I 2023-04-18 17:55:06,344] Trial 0 finished with value: 0.6585366129875183 and parameters: {'hidden_channels': 32, 'batch_size': 32, 'dropout': 0.0}. Best is trial 0 with value: 0.6585366129875183.\n",
            "[I 2023-04-18 17:55:43,032] Trial 1 finished with value: 0.7696477174758911 and parameters: {'hidden_channels': 32, 'batch_size': 128, 'dropout': 0.5}. Best is trial 1 with value: 0.7696477174758911.\n",
            "[I 2023-04-18 17:56:24,227] Trial 2 finished with value: 0.7100270986557007 and parameters: {'hidden_channels': 16, 'batch_size': 128, 'dropout': 0.5}. Best is trial 1 with value: 0.7696477174758911.\n",
            "[I 2023-04-18 17:57:01,647] Trial 3 finished with value: 0.7506775259971619 and parameters: {'hidden_channels': 16, 'batch_size': 32, 'dropout': 0.5}. Best is trial 1 with value: 0.7696477174758911.\n",
            "[I 2023-04-18 17:57:22,743] Trial 4 finished with value: 0.7154471278190613 and parameters: {'hidden_channels': 32, 'batch_size': 128, 'dropout': 0.0}. Best is trial 1 with value: 0.7696477174758911.\n",
            "[I 2023-04-18 17:57:29,193] Trial 5 pruned. Trial was pruned at epoch 4.\n",
            "[I 2023-04-18 17:58:26,385] Trial 6 finished with value: 0.7994579672813416 and parameters: {'hidden_channels': 16, 'batch_size': 32, 'dropout': 0.5}. Best is trial 6 with value: 0.7994579672813416.\n",
            "[I 2023-04-18 17:58:28,321] Trial 7 pruned. Trial was pruned at epoch 0.\n"
          ]
        },
        {
          "name": "stdout",
          "output_type": "stream",
          "text": [
            "Best trial for fold 4: 0.7994579672813416\n"
          ]
        },
        {
          "data": {
            "text/html": [
              "<pre style=\"white-space:pre;overflow-x:auto;line-height:normal;font-family:Menlo,'DejaVu Sans Mono',consolas,'Courier New',monospace\">┏━━━━━━━━━━━━━━━━━━━━━━━━━━━┳━━━━━━━━━━━━━━━━━━━━━━━━━━━┓\n",
              "┃<span style=\"font-weight: bold\">        Test metric        </span>┃<span style=\"font-weight: bold\">       DataLoader 0        </span>┃\n",
              "┡━━━━━━━━━━━━━━━━━━━━━━━━━━━╇━━━━━━━━━━━━━━━━━━━━━━━━━━━┩\n",
              "│<span style=\"color: #008080; text-decoration-color: #008080\">         test_acc          </span>│<span style=\"color: #800080; text-decoration-color: #800080\">    0.5936739444732666     </span>│\n",
              "│<span style=\"color: #008080; text-decoration-color: #008080\">         test_loss         </span>│<span style=\"color: #800080; text-decoration-color: #800080\">    0.6353301405906677     </span>│\n",
              "└───────────────────────────┴───────────────────────────┘\n",
              "</pre>\n"
            ],
            "text/plain": [
              "┏━━━━━━━━━━━━━━━━━━━━━━━━━━━┳━━━━━━━━━━━━━━━━━━━━━━━━━━━┓\n",
              "┃\u001b[1m \u001b[0m\u001b[1m       Test metric       \u001b[0m\u001b[1m \u001b[0m┃\u001b[1m \u001b[0m\u001b[1m      DataLoader 0       \u001b[0m\u001b[1m \u001b[0m┃\n",
              "┡━━━━━━━━━━━━━━━━━━━━━━━━━━━╇━━━━━━━━━━━━━━━━━━━━━━━━━━━┩\n",
              "│\u001b[36m \u001b[0m\u001b[36m        test_acc         \u001b[0m\u001b[36m \u001b[0m│\u001b[35m \u001b[0m\u001b[35m   0.5936739444732666    \u001b[0m\u001b[35m \u001b[0m│\n",
              "│\u001b[36m \u001b[0m\u001b[36m        test_loss        \u001b[0m\u001b[36m \u001b[0m│\u001b[35m \u001b[0m\u001b[35m   0.6353301405906677    \u001b[0m\u001b[35m \u001b[0m│\n",
              "└───────────────────────────┴───────────────────────────┘\n"
            ]
          },
          "metadata": {},
          "output_type": "display_data"
        },
        {
          "name": "stdout",
          "output_type": "stream",
          "text": [
            "Average performance for repetition 2: 0.6428223848342896\n",
            "Overall average performance: 0.6306569298108419\n"
          ]
        }
      ],
      "source": [
        "if __name__ == '__main__': \n",
        "\n",
        "    datamodule = GraphDataModule(dataset_name=DATASET_NAME)\n",
        "  \n",
        "    overall_performances = []\n",
        "    for r in range(REP):\n",
        "        datamodule.prepare_data()\n",
        "        fold_performances = []\n",
        "        for fold in range(N_SPLITS):\n",
        "            # Create a new study object for each fold\n",
        "            study = optuna.create_study(direction=\"maximize\", pruner=optuna.pruners.MedianPruner(), sampler=optuna.samplers.TPESampler(seed=SEED),)\n",
        "            datamodule.setup(\"fit\", fold)\n",
        "            study.optimize(lambda trial: objective(trial, datamodule, EPOCHS), n_trials=8)\n",
        "            print(f\"Best trial for fold {fold}: {study.best_trial.value}\")\n",
        "\n",
        "            # Retrain the model with the best hyperparameters\n",
        "            best_params = study.best_trial.params\n",
        "            model = Model(in_channels=datamodule.num_node_features,\n",
        "                          out_channels=datamodule.num_classes,\n",
        "                          hidden_channels=best_params['hidden_channels'],\n",
        "                          dropout=best_params['dropout'])\n",
        "            datamodule.setup(\"fit\", fold, batch_size=best_params['batch_size'])\n",
        "            test_acc = retrain_and_evaluate(model, datamodule, EPOCHS)\n",
        "            fold_performances.append(test_acc)\n",
        "\n",
        "        avg_performance = np.mean(fold_performances)\n",
        "        print(f\"Average performance for repetition {r}: {avg_performance}\")\n",
        "        overall_performances.append(avg_performance)\n",
        "\n",
        "    print(f\"Overall average performance: {np.mean(overall_performances)}\")\n"
      ]
    }
  ],
  "metadata": {
    "accelerator": "GPU",
    "colab": {
      "provenance": [],
      "authorship_tag": "ABX9TyNhpiZj89QB8o6hICelsQpR",
      "include_colab_link": true
    },
    "gpuClass": "standard",
    "kernelspec": {
      "display_name": "Python 3",
      "name": "python3"
    },
    "language_info": {
      "name": "python"
    }
  },
  "nbformat": 4,
  "nbformat_minor": 0
}
